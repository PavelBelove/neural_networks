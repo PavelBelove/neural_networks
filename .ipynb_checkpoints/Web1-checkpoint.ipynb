{
 "cells": [
  {
   "cell_type": "markdown",
   "metadata": {},
   "source": [
    "# [Ссылка на домашнее задание](#hw_done)"
   ]
  },
  {
   "cell_type": "markdown",
   "metadata": {
    "id": "y1FWR90xxpSl"
   },
   "source": [
    "# Введение в искусственные нейронные сети\n",
    "# Урок 1. Основы обучения нейронных сетей"
   ]
  },
  {
   "cell_type": "markdown",
   "metadata": {
    "id": "VkHENMkcxpSm"
   },
   "source": [
    "## Содержание методического пособия:\n",
    "\n",
    "\n",
    "- [Общие сведения о искусственных нейронных сетях](#intro)\n",
    "- [Место искусственных нейронных сетей в современном мире](#place)\n",
    "- [История искусственных нейронных сетей](#history)\n",
    "- [Строение биологической нейронной сети](#bio)\n",
    "- [Общие сведения о том, как происходит обучение нейронных сетей](#train)\n",
    "- [Инициализация весов. Функции активации](#init)\n",
    "- [Обратное распространение ошибки и градиентный спуск](#backprop)\n",
    "- [Небольшой пример по обучению простой нейронной сети](#example)\n",
    "    - [Нейрон для повторения входа](#repeat)\n",
    "    - [Нейрон для регрессии](#reg)\n",
    "    - [Нейрон для многоклассовой классификации](#multiclass)\n",
    "- [Пример построения двухслойной нейронной сети на numpy](#example2)\n",
    "- [Домашнее задание](#hw)\n",
    "- [Определения](#def)"
   ]
  },
  {
   "cell_type": "markdown",
   "metadata": {
    "id": "2DOeMlEbxpSn"
   },
   "source": [
    "## Общие сведения об искусственных нейронных сетях <a class='anchor' id='intro'>\n",
    "\n",
    "В даннном разделе мы узнаем, что такое нейронные сети и из каких компонентов они состоят.\n",
    "\n",
    "Искусственнная нейронная сеть - это программная реализация математической модели биологической нейронной сети. Ее цель — извлечь пользу из переданных ей данных. Например, сказать, что на фотографии или сделать какой-либо прогноз.\n",
    "\n",
    "Нейронные сети состоят из входных, внутренних и внешних слоев. Внутренние слои ответственны за обучение. Входные слои позволяют ввести данные во внутренние слои, а внешние слои позволяют вывести полезный вывод из данных. Сами слои состоят из отдельных нейронов, которые связаны с другими нейронами и по определенным алгоритмам способны усиливать с ними связь.\n",
    "\n",
    "Через нейронные сети в процессе обучения многократно пропускают какие-либо данные, например изображения и указывают, что на них. За счет работы различных алгоритмов в нейронной сети вырабатывается такая система связей между нейронами, которая позволяет в последствии при переданных ей новых данных получить ответ, что на фотографии.\n",
    "\n",
    "Но распознавание объектов на фотографиях далеко не единственная сфера применения нейронных сетей. Существует множество видов различных нейронных сетей для разных задач. Основные из этих видов мы разберем в данном курсе. Детальное рассмотрение процесса обучения нейронной сети и базовые сведения об ее архитекутуре будут разобраны во второй половине данного методического пособия."
   ]
  },
  {
   "cell_type": "markdown",
   "metadata": {
    "id": "BpJkskTqxpSo"
   },
   "source": [
    "<img src='https://drive.google.com/uc?export=view&id=1RgW2rlqVFGNePU8RUiEGBfA4G5_tTqsb'>"
   ]
  },
  {
   "cell_type": "markdown",
   "metadata": {
    "id": "BEDTw0lGxpSp"
   },
   "source": [
    "## Место искусственных нейронных сетей в современном мире <a class='anchor' id='place'>\n",
    "\n",
    "В данном разделе мы разберем какие новшества принесли искусственные нейронные сети в современный мир. Долгое время создание искусственого интеллекта оставалось частью научной фантастики и несмотря на многие предсказания прошлого времени, что искусственный интеллект вот-вот будет создан,  искусственный интеллект был создан совсем не давно. По крайней мере люди стали говорить, что они пользуются искусственным интеллектом. Как минимум можно сказать, что искусственный интеллект создан с маркетинговой точки зрения. Тем не менее сейчас мы можем говорить только лишь о том, что создан специализированный искусственный интеллект, способный выполнять только определенные задачи, которые раньше было свойственно выполнять только человеку. Т.е. создан так называемый **узкий искусственный интеллект**. Создание **общего искусственного интеллекта**, т. е. программы, которая могла бы мыслить как человек, по прежнему остается фантастикой.\n",
    "\n",
    "<table><tr>\n",
    "<td> <img src='https://drive.google.com/uc?export=view&id=1uASIANBhuWuRP58bgs4nytR6nTtbewhM'> </td>\n",
    "<td> <img src='https://drive.google.com/uc?export=view&id=1hKXauR0O5jD5S9TnoCWX63KQvd_JbspA' style=\"width: 600px;\"> </td>\n",
    "</tr></table>"
   ]
  },
  {
   "cell_type": "markdown",
   "metadata": {
    "id": "07Hn-kj7LhgW"
   },
   "source": [
    "Искусственные нейронные сети, которые являются предметом изучения данного курса являются основой революции в области «узкого искусственного интеллекта» и являются одной из главных надежд для создания общего искусственного интеллекта в будущем. Однако искусственвенный интеллект может строиться не только на базе искусственных нейронных сетей. Более того как мы увидем в разделе посвященным истории, данных подход долгое время считался неперспективным. Так почему же революция совершена именно благодаря им, а не другим подходам? Дело в том, что компьютерные программы давно могут автоматизировать различную работу человека. Им можно дать определенный алгоритм работы и они будут его надежно выполнять. Программы как известно получают на вход данные, обрабатывают их с помощью определенного алгоритма и на выходе опять выдают данные.\n",
    "Но возьмем к примеру завод. На нем есть много труда, который можно было автоматизировать. Не трудно составить алгоритм, например, для промышленного манипулятора, который будет переносить определенные тяжелые предметы. С помощью технологий перевода данных обработанных процессором в движения манипулятора можно заставить его совершить определенную полезное работу. Но как ввести данные для обработки? Как дать понять манипулятору какой предмет ему нужно взять? Здесь на помощь может прийти камера. \n",
    "\n",
    "<img src='https://drive.google.com/uc?export=view&id=11oiOY9BICo__bqmhJkJ5RlkJVbfN4z5U'>\n",
    "\n",
    "Долгое время различные алгоритмы компьютерного зрения справлялись с определенными несложными задачами наподобее определения предметов через цвет или его геометрическую форму.\n",
    "Но что если нужно работать с предметами разного цвета и формы, но объеденных другими общими свойствами? Например сортировать яблоки и груши. Они могут быть разной формы и цвета, но тем не менее нужно отделить одно от другого. Человеку не трудно справиться с подобной задачей но для искусственного интеллекта долгое время это оставалось не посильной задачей. Однако с применением глубоких искусственных нейронных сетей начиная с 2012 года выполнение этой задачи стало реальностью. Но не только в сфере распознования образов важную роль сыграли нейронные сети. Также в сфере распознования речи. Так же сейчас есть нейронные сети которые могут создавать изображения и синтезировать голос. Также они применяются в многих других сферах.\n",
    "\n",
    "Подобный переворот случился благодаря тому, что нейронные сети стали повторять собою нейронные сети человеческого мозга, который как раз может легко справляться с подобной задачей."
   ]
  },
  {
   "cell_type": "markdown",
   "metadata": {
    "id": "FYr6ynG4xpSr"
   },
   "source": [
    "## Применение нейронных сетей  <a class='anchor' id='usage'>\n",
    "\n",
    "В нашем курсе мы будем проходить различные виды нейронных сетей и будем рассматривать в соотвествующих уроках применение каждого вида отдельно. Здесь же в общих чертах нарисуем картину их применения.\n",
    "\n",
    "Нейронные сети применяются в области **компьютерного зрения**. Начиная с обычных программ распознающих предметы в производстве или распознавание личности на телефоне, заканчивая крупными комплексами компьютерного зрения, которые применяются в беспилотных автомобилях.\n",
    "\n",
    "<table><tr>\n",
    "    <td><h3>Распознавание лица</h3><img src='https://drive.google.com/uc?export=view&id=1eVT_BJ-FlU_zF7uBkf9rDC4Cebv-H2M_' width=600>\n",
    "        </td>\n",
    "    <td><h3>Беспилотные автомобили</h3>\n",
    "        <img src='https://drive.google.com/uc?export=view&id=1iW_oqruyLDRnvNoA6PcUBmzbjnZwlntd'>\n",
    "        </td>\n",
    "</tr></table>"
   ]
  },
  {
   "cell_type": "markdown",
   "metadata": {
    "id": "keyNC6rrxpSs"
   },
   "source": [
    "Комбинация из нескольких нейронных сетей позволяет описать содержание фотографии.\n",
    "Нейронные сети применяются в медицине — для анализа снимков и заключений о болезни человека в некоторых областях лучше, чем человек.\n",
    "\n",
    "Нейронные сети также применяются для анализа поведения покупателей, а также на бирже. Находят они применения также в прогнозах погоды.\n",
    "\n",
    "<table><tr>\n",
    "\n",
    "<td><h3>Анализ поведения покупателей</h3>\n",
    "<img src='https://drive.google.com/uc?export=view&id=1iDISC_aqPS2x-OS534s8J9cYXCNV9ZIj'></td>\n",
    "<td><h3>Сегментация клеток в медицине</h3>\n",
    "    <img src='https://drive.google.com/uc?export=view&id=1XRxNqtW7AUcGuZqAOV3wcO1Kryb5Cooi'>\n",
    "        </td>\n",
    "</tr></table>\n",
    "\n",
    "Нейронные сети находят также применение для творчества. Уже сейчас есть художники, которые продают картины, которые рисуют нейронные сети.\n",
    "\n",
    "Есть и другие интересные области применения нейронных сетей. Например они используются для придания цвета старым фотографиям или фильмам. В улучшении качества изображений. Для чтения по губам. Для генерации фотографий и много другого.\n",
    "\n",
    "Нейронные сети применяются для **распознавания голоса** — Siri, Google помощник, Alexa, Алиса и прочие голосовые помощники распознают голос человек с помощью нейронных сетей. Их применение не ограничивается только лишь распознаванием голоса. В последние годы достигнут существенный прогресс в синтезе голоса. Применяются они также в области машинного перевода. Прогресс в этой области как раз связан с ними. "
   ]
  },
  {
   "cell_type": "markdown",
   "metadata": {
    "id": "pSFTDXayxpSt"
   },
   "source": [
    "## История искусственных нейронных сетей <a class='anchor' id='history'>\n",
    "\n",
    "\n",
    "Представление о нейронных сетях как главном способе создания искусственного интеллекта сложилось далеко не сразу и в данном разделе мы осветим основные вехи этой технологии.\n",
    "\n",
    "Математическую модель искусственного нейрона была предложена У. Маккалоком и У. Питтсом  в 50-х годах 20 века.\n",
    "\n",
    "В виде компьютерной системы нейронная сеть была впервые реализована  Фрэнком Розенблаттом в 1960 году. Фрэнк Розенблат создал «Марк-1», который являлся программно-аппаратным комлексом и воплащал в себе простую нейронную сеть в один слой. Можно отметить, что современные сети (на момент ноября 2019 г.) включают в себя 50 — 150 слоев, а экспериментальные достигают размера более 1000 слоев.\n",
    "\n",
    "Однако волна энтузиазма 60-х годов в отношении искусственных нейронных сетей сменилась скепсисом в отношении них из-за трудностей в совершении определенных логических операций и невозможности получать практические результаты. Доминирующим подходом для создания искусственного интеллекта стали экспертные системы. Они являлись по сути продвинутой энциклопедией знаний в той или иной сфере.\n",
    "\n",
    "Однако в 2012 г. появились глубокие нейронные сети. Т.е. сети с количеством внутренних слоев больше одного. Сначала кол-во слоев таких нейронных сетях было примерно 3-10. Но в силу эффективности подхода по увеличению кол-ва слоев, быстро появились нейронные сети кол-во слоев которых стало исчисляться десятками."
   ]
  },
  {
   "cell_type": "markdown",
   "metadata": {
    "id": "w_WWt-XcxpSw"
   },
   "source": [
    "\n",
    "<img src='https://drive.google.com/uc?export=view&id=1cHOT6sfmhHi9cTsIz-bMIyYr6tZNfAf4' width=1100px>"
   ]
  },
  {
   "cell_type": "markdown",
   "metadata": {
    "id": "9UMBwjLqxpSw"
   },
   "source": [
    "Именно с 2012 г. нейросети стали считаться доминирующим способом в решении многих задач искусственного интеллекта. Стоит задаться вопросом: почему именно в этот период? Прорыв был обеспечен более продвинутой архитектурой, возросшими количеством хранимых компьютерами данных для тренировки нейронных сетей, а также возросшей вычислительной мощностью компьютеров. Также можно отметить появления в эту пору возможности использовать видеокарты (GPU) для тренировки нейронных сетей, которые оказались лучше приспособленными для решения этих задач чем классические CPU. \n",
    "\n",
    " <table>\n",
    "   <tr>\n",
    "    <td rowspan=\"2\"><img src='https://drive.google.com/uc?export=view&id=1AV8Jz_MhXy0x_BUE6CyuA4Hu63RWaoUN' width=1500></td>\n",
    "    <th colspan=\"2\"><img src='https://drive.google.com/uc?export=view&id=1Zv_5TDpHp-A98ZrxJval42s_dgZwsUFb'></th>\n",
    "\n",
    "   </tr>\n",
    "      <tr align=\"center\">\n",
    "    <td><img src='https://drive.google.com/uc?export=view&id=1aPfCx4zwHgNbNnoZh-PCJpjIt9URTjrz'></td>\n",
    "   </tr>\n",
    "  </table>"
   ]
  },
  {
   "cell_type": "markdown",
   "metadata": {
    "id": "nA2ciSUxxpSx"
   },
   "source": [
    "## Строение биологической нейронной сети <a class='anchor' id='bio'>\n",
    "\n",
    "Термин «Нейрон» был  введен Г. В. Вальдейером в 1891 г. Что из себя предствляет человечекий нейрон? Часто можно услышать его сравнение с транизистором. Однаком более убедительным является точка зрения нейрофизиологов утверждающих, что нейрон это полноценный компьютер. Человеческий нейрон также как и компьютер призван обрабатывать сигналы. \n",
    "То, что человеческое сознание является результатом работы нейронов было впервые отмечено в работах Александра Бейна (1873) и Уильяма Джеймса (1890). В работах Бейна впервые акт запоминания был сформулирован как акт укрепление нейронных связей.\n",
    "\n",
    "В нейронах мозга есть аксоны, через которые в него попадают сигналы,  у искусственных нейронов также есть подобные входы. У нейронов мозга есть выходной компонент дендрит и искуственных нейронов также есть выходные компоненты. У нейронов человеческого мозга насчитывается порядка 10 000 связей с другими нейронами у искусственных нейронов их также может быть много. И биологической нейронной сети и в искусственной в случае если сумма поступающих сигналов в нейрон превышает определенный порог то сигнал передается следующему нейрону.\n",
    "\n",
    "\n",
    "<img src='https://drive.google.com/uc?export=view&id=1ETe3FLpW_YeBFzSXee7qJWUQ1ju91vV8' width=800px>\n",
    "\n",
    "Искусственные нейронные сети работают подобно биологическим — через них пропускаются данные и те связи, которые ведут к нужным результатам укрепляются. Но если в человеческом мозге происходит засчет утолщения этих связей, то в программных нейронных сетях это происходит за счет увеличение чисел символизирующих эти связи.\n",
    "\n",
    "\n",
    "<img src='https://drive.google.com/uc?export=view&id=1RdXFm7HGZKhgNor3099il9_MudFM7WoY'>"
   ]
  },
  {
   "cell_type": "markdown",
   "metadata": {
    "id": "Gfsqj22IxpSy"
   },
   "source": [
    "<img src='https://drive.google.com/uc?export=view&id=1xchAwxcsAg8JnKRZ4vzCRlefiDwDeU3m'>"
   ]
  },
  {
   "cell_type": "markdown",
   "metadata": {
    "id": "tk9kK9-JxpSz"
   },
   "source": [
    "## Общие сведения о том, как происходит обучение нейронных сетей <a class='anchor' id='train'>"
   ]
  },
  {
   "cell_type": "markdown",
   "metadata": {
    "id": "aFMW-GSCxpSz"
   },
   "source": [
    "Давайте возьмем какую-нибудь типичную задачу для нейросети и попробуем разобрать как она могла бы ее решить. В качества примера задачи можем взять типичный пример — определить на фотографии находится кот или собака. \n",
    "\n",
    "Сначала давайте подумаем как это данная задача решалась бы без нейронной сети. Вспомним, что фотография это набор пикселей. Пиксели в компьютере репрезентуются матрицей чисел. У кота очень много отличительных черт как и у собаки. Перечесление этих уникальных свойств займет долгое время. Но стоит учесть вот какое обстоятельство - усики и лапки и шерстка есть у многих животных. И скорее всего все что нам остается делать это описывать размеры этих усиков, лапок и т. д. Изучать их угла наклона и т. д. Попытки делать это вручную были, как раз до эпохи нейронных сетей. Но результаты были не высокие. Как вы понимаете объем признаков слишком большой. \n",
    "\n",
    "<img src='https://drive.google.com/uc?export=view&id=1ELlQJBZrmg_qcQBnawkH1KjI2GajZqkk' width=500px>\n",
    "\n",
    "Таким образом задача нейронной сети содержать в себе необходимый набор признаков которые позволяет ей отличить один объект от другого. \n",
    "Но встает вопрос как поместить в нейронную сеть необходимый набор признаков? Ответ на этот вопрос будет даваться в течении всего данного курса и всеравно не будет исчерпывающим. Поскольку для это придется обучать нейронную сеть, а ее обучение порой преобретает характер искусства нежели набор предписаний.\n",
    "Тем не менее в процессе обучения всегда нужно пройти ряд этапов, которые будут общими для любого процесса обучения.\n",
    "\n",
    "\n",
    "Нам определиться с архитектурой нейронной сети. От удачно выбранной архитектуры будет зависеть насколько быстро мы сможем обучить нейронную сеть, насколько точной она будет, а также сможем ли мы ее обучить в принципе. \n",
    "Архитектура нейронной сети как вы догадываетесь зависит от задачи. В зависимости от задачи нам нужно будет выбрать:\n",
    "\n",
    "- Количество слоев из которых будет состоять нейронная сеть\n",
    "- Сколько будет нейронов в этих слоях\n",
    "\n",
    "\n",
    "Кроме этого нам нужно будет подобрать верным образом компоненты, за счет которых будет обучаться нейронная сеть (подробнее о них можно будет узнать в следующих разделах данного мет. пособия)\n",
    "\n",
    "- Систему инициализации весов нейронов \n",
    "- Функцию активации весов нейронов\n",
    "- Алгоритм корректировки весов нейронов\n",
    "\n",
    "Это безусловно список самых общих компонентов с которыми нам нужно будет определиться, но на данной стадии обучения надо полагать нам их будет достаточно. \n",
    "Архитектуры нейронных сетей мы будем изучать на отдельных уроках этого курса. В этом же уроке мы разберем следующие неотъемлимые компоненты обучения нейронной сети любой архитектуры — инициализация весов, их корректировка, рассмотрим виды функций активации весов нейронной сети, разберем, что такое градиентный спуск и метод обратного распространения ошибки."
   ]
  },
  {
   "cell_type": "markdown",
   "metadata": {
    "id": "P1jA-VRmxpS0"
   },
   "source": [
    "## Инициализация весов. Функции активации <a class='anchor' id='init'>"
   ]
  },
  {
   "cell_type": "markdown",
   "metadata": {
    "id": "dK_ARl9CxpS0"
   },
   "source": [
    "<img src='https://drive.google.com/uc?export=view&id=1XmympDj-QuN6VBWDGM69rzJHxB3-kBCX'>"
   ]
  },
  {
   "cell_type": "markdown",
   "metadata": {
    "id": "T2gn4-CYxpS0"
   },
   "source": [
    "Мы с вами выяснили, что в процессе обучения нейронной сети в ней должны вырабататься признаки по которым она сможет определять, что на фотографии. Но как эти признаки будут репрезентованы в нейронной сети? Все эти признаки будут составлять определенную сложную матрицу чисел. Настолько сложную, что человеку не под силу ее проанализировать. Какие это будут признаки? Это тоже неизвестно. Их может быть так много и они могут быть такими специфическими, что и описать их будет трудно. Для этого и нужны нейросети, они берут на себя содержание и описание в себе этих признаков.\n",
    "\n",
    "Однако все эти признаки записываются через систему весов нейронов. Веса нейрона отражают толщину связи этого нейрона с др. нейроном. Из совокупности  этих связей и состоят признаки. Т.е. другими словами обучить нейронную сеть значит найти нужные веса для ее нейронов. \n",
    "\n",
    "Первоначально веса можно задать случайными числами. И в процессе обучения они будут все больше и больше подходить под решения задачи. Программно это можно показать на примере следующего фрагмента кода."
   ]
  },
  {
   "cell_type": "code",
   "execution_count": 1,
   "metadata": {
    "colab": {
     "base_uri": "https://localhost:8080/"
    },
    "executionInfo": {
     "elapsed": 1126,
     "status": "ok",
     "timestamp": 1617557723794,
     "user": {
      "displayName": "Julia Ponomareva",
      "photoUrl": "https://lh3.googleusercontent.com/a-/AOh14Giimaqepqa7diwYfGdfG3eO8yvg2qDwve3KonGv=s64",
      "userId": "14904333240138417226"
     },
     "user_tz": -300
    },
    "id": "Pt9eda5yxpS1",
    "outputId": "6aaec876-21bd-4725-a4fe-9268bd28d9d4"
   },
   "outputs": [
    {
     "data": {
      "text/plain": [
       "array([[4.17022005e-01],\n",
       "       [7.20324493e-01],\n",
       "       [1.14374817e-04]])"
      ]
     },
     "execution_count": 1,
     "metadata": {},
     "output_type": "execute_result"
    }
   ],
   "source": [
    "import numpy as np\n",
    "import random\n",
    "import matplotlib.pyplot as plt\n",
    "\n",
    "# генерации случайных чисел для инициализации весов\n",
    "np.random.seed(1)\n",
    "weights = np.random.random((3, 1))\n",
    "\n",
    "weights"
   ]
  },
  {
   "cell_type": "markdown",
   "metadata": {
    "id": "wTjPmZMAxpS3"
   },
   "source": [
    "Но мало просто присвоить определенные веса нейронам. Необходимо также определить функцию по которой будет активироваться нейроны. Выбранная функция активация будет одинаковой для всех нейронов. С помощью нее можно определять с какой силой нужно подействовать на нейрон, чтобы он  активировался и передал сигнал дальше."
   ]
  },
  {
   "cell_type": "markdown",
   "metadata": {
    "id": "GV9opmrRxpS3"
   },
   "source": [
    "$$Y = \\sum{weights * X} + bias$$"
   ]
  },
  {
   "cell_type": "markdown",
   "metadata": {
    "id": "Ki8oqV5xxpS3"
   },
   "source": [
    "Выше показан нейрон в виде формулы. Активация его как говорилась зависит от входных данных, его весов и некоего порогого значения.\n",
    "\n",
    "Функций таких существует очень много - сигмоида, линейная, ступенчатая, ReLU, tahn и т. д."
   ]
  },
  {
   "cell_type": "markdown",
   "metadata": {
    "id": "8VWpZMxnxpS4"
   },
   "source": [
    "<img src='https://drive.google.com/uc?export=view&id=1jFJKMuRoaYExj5-lG-UXJ64wlFpo6RDB'>"
   ]
  },
  {
   "cell_type": "markdown",
   "metadata": {
    "id": "vFGbLroCxpS4"
   },
   "source": [
    "В данном фрагменте кода мы можем посмотреть как программно реализовать функцию сигмоид -"
   ]
  },
  {
   "cell_type": "code",
   "execution_count": 2,
   "metadata": {
    "executionInfo": {
     "elapsed": 1026,
     "status": "ok",
     "timestamp": 1617554989684,
     "user": {
      "displayName": "Julia Ponomareva",
      "photoUrl": "https://lh3.googleusercontent.com/a-/AOh14Giimaqepqa7diwYfGdfG3eO8yvg2qDwve3KonGv=s64",
      "userId": "14904333240138417226"
     },
     "user_tz": -300
    },
    "id": "1nxx7rKUxpS4"
   },
   "outputs": [],
   "source": [
    "# вычисление сигмоид функции\n",
    "\n",
    "def sigmoid(x):\n",
    "    return 1 / (1 + np.exp(-x))"
   ]
  },
  {
   "cell_type": "code",
   "execution_count": 3,
   "metadata": {
    "colab": {
     "base_uri": "https://localhost:8080/",
     "height": 279
    },
    "executionInfo": {
     "elapsed": 3547,
     "status": "ok",
     "timestamp": 1617554992424,
     "user": {
      "displayName": "Julia Ponomareva",
      "photoUrl": "https://lh3.googleusercontent.com/a-/AOh14Giimaqepqa7diwYfGdfG3eO8yvg2qDwve3KonGv=s64",
      "userId": "14904333240138417226"
     },
     "user_tz": -300
    },
    "id": "FBF5k8OsxpS5",
    "outputId": "ef69f853-d912-43b7-e4ff-80853b6221fb"
   },
   "outputs": [
    {
     "data": {
      "image/png": "[encoded data removed]",
      "text/plain": [
       "<Figure size 432x288 with 1 Axes>"
      ]
     },
     "metadata": {
      "needs_background": "light"
     },
     "output_type": "display_data"
    }
   ],
   "source": [
    "# для картинки\n",
    "D = 10\n",
    "\n",
    "X = np.linspace(0-D, 0+D, 20)\n",
    "Y = sigmoid(X)\n",
    "\n",
    "plt.plot(X, Y, '-g', label='сигмоид')\n",
    "plt.legend()\n",
    "plt.xlabel('X')\n",
    "plt.ylabel('Y')\n",
    "plt.show()"
   ]
  },
  {
   "cell_type": "markdown",
   "metadata": {
    "id": "sRkvW44SxpS5"
   },
   "source": [
    "А вот, как например на Python, можно реализовать упомянутую выше функцию активации Relu - "
   ]
  },
  {
   "cell_type": "code",
   "execution_count": 4,
   "metadata": {
    "executionInfo": {
     "elapsed": 3251,
     "status": "ok",
     "timestamp": 1617554992426,
     "user": {
      "displayName": "Julia Ponomareva",
      "photoUrl": "https://lh3.googleusercontent.com/a-/AOh14Giimaqepqa7diwYfGdfG3eO8yvg2qDwve3KonGv=s64",
      "userId": "14904333240138417226"
     },
     "user_tz": -300
    },
    "id": "5r2NvzpVxpS6"
   },
   "outputs": [],
   "source": [
    "# вычисление Relu функции\n",
    "\n",
    "def ReLU(x):\n",
    "    return x * (x > 0)"
   ]
  },
  {
   "cell_type": "code",
   "execution_count": 5,
   "metadata": {
    "executionInfo": {
     "elapsed": 2880,
     "status": "ok",
     "timestamp": 1617554992888,
     "user": {
      "displayName": "Julia Ponomareva",
      "photoUrl": "https://lh3.googleusercontent.com/a-/AOh14Giimaqepqa7diwYfGdfG3eO8yvg2qDwve3KonGv=s64",
      "userId": "14904333240138417226"
     },
     "user_tz": -300
    },
    "id": "14r5RO-tZv5E"
   },
   "outputs": [],
   "source": [
    "def ReLU_deriv(x):\n",
    "    return 1 if x >= 0 else 0"
   ]
  },
  {
   "cell_type": "code",
   "execution_count": 6,
   "metadata": {
    "colab": {
     "base_uri": "https://localhost:8080/",
     "height": 279
    },
    "executionInfo": {
     "elapsed": 3188,
     "status": "ok",
     "timestamp": 1617554993684,
     "user": {
      "displayName": "Julia Ponomareva",
      "photoUrl": "https://lh3.googleusercontent.com/a-/AOh14Giimaqepqa7diwYfGdfG3eO8yvg2qDwve3KonGv=s64",
      "userId": "14904333240138417226"
     },
     "user_tz": -300
    },
    "id": "9omDu9MExpS6",
    "outputId": "b32b631f-3fb9-474d-e6ea-6459ab8dcc6a"
   },
   "outputs": [
    {
     "data": {
      "image/png": "[encoded data removed]",
      "text/plain": [
       "<Figure size 432x288 with 1 Axes>"
      ]
     },
     "metadata": {
      "needs_background": "light"
     },
     "output_type": "display_data"
    }
   ],
   "source": [
    "# для картинки\n",
    "D = 10\n",
    "\n",
    "X = np.linspace(0-D, 0+D, 21)\n",
    "Y = ReLU(X)\n",
    "\n",
    "plt.plot(X, Y, '-g', label='ReLU')\n",
    "plt.legend()\n",
    "plt.xlabel('X')\n",
    "plt.ylabel('Y')\n",
    "plt.show()"
   ]
  },
  {
   "cell_type": "markdown",
   "metadata": {
    "id": "mVy3nvVhxpS7"
   },
   "source": [
    "## Обратное распространение ошибки и градиентный спуск <a class='anchor' id='backprop'>"
   ]
  },
  {
   "cell_type": "markdown",
   "metadata": {
    "id": "fwaD-rcGxpS7"
   },
   "source": [
    "Давайте прежде чем начнем разбирать обратное распространение и градиентный спуск, скажем несколько слов о тех типах архитектур нейронной сети, которые будут использованы в данном уроке. Это простые нейронные сети. С точки зрения архитектуры их можно отнести к полносвязным нейронным сетям так как все нейроны связаны между собой. С другой стороны их можно отнести к нейронным сетям прямого распространения (feed forward). Сети прямого распространения подразумевает распространения сигналы от вход к выходу, в отличии от реккурентных нейронных сетей, где во внутренних слоях сигналы могут ходить по циклу. О плюсах и минусах сетей полносвязных мы поговорим в уроке посвященном Сверточным нейронным сетям, поскольку данные нейронные сети отошли от этого подхода и нам нужно будет выяснить почему.\n",
    "\n",
    "После того как на выходе нейронной сети мы получили определенное цифровое значение нам нужно сравнить его с искомым. Мы можем посчитать насколько в количественом выражение ошиблась нейросеть. Задача обратного распространения ошибки пройтись от выхода ко входу и скорректировать веса нейронов. Это процесс происходит множество раз в процесс обучения.\n",
    "\n",
    "<img src='https://drive.google.com/uc?export=view&id=1XmympDj-QuN6VBWDGM69rzJHxB3-kBCX'>\n",
    "\n",
    "Можно сказать что процесс обучения нейронной сети это попытка оптимизировать веса нейронной сети до тех пор пока не будет достигнута минимальная степень ошибки. Для этого хорошо подходит такой алгоритм как градиентный спуск. Суть данного метода заключается в том, чтобы искать такие числовые параметры, при которых значение ошибки достигнет нуля.\n",
    "\n",
    "Обратите внимание на следующий график, из него видно, что есть определенное число по шкале весов, которому соотсвествует минимальное значение по шкале Error. Это число и нужно находить в процессе обучения нейронных сетей."
   ]
  },
  {
   "cell_type": "markdown",
   "metadata": {
    "id": "XpNyshdfxpS8"
   },
   "source": [
    "<img src='https://drive.google.com/uc?export=view&id=1bLmRgk-GiWyD3NKMIiAsIBUO-2uDkIW6'>"
   ]
  },
  {
   "cell_type": "markdown",
   "metadata": {
    "id": "iSHnElKexpS8"
   },
   "source": [
    "1. Инициализация w\n",
    "\n",
    "2. Цикл по k = 1,2,3,...:\n",
    "\n",
    "- $ w^{k} = w^{k-1} - \\eta\\nabla Q(w^{k-1}, X) $\n",
    "\n",
    "- Если $||w^{k} - w^{k-1}|| < \\epsilon$, то завершить.\n"
   ]
  },
  {
   "cell_type": "markdown",
   "metadata": {
    "id": "K88irooYxpS9"
   },
   "source": [
    "Давайте попробуем реализовать программного градиентный спуск, чтобы лучше понять как он работает."
   ]
  },
  {
   "cell_type": "code",
   "execution_count": 7,
   "metadata": {
    "executionInfo": {
     "elapsed": 911,
     "status": "ok",
     "timestamp": 1617558662744,
     "user": {
      "displayName": "Julia Ponomareva",
      "photoUrl": "https://lh3.googleusercontent.com/a-/AOh14Giimaqepqa7diwYfGdfG3eO8yvg2qDwve3KonGv=s64",
      "userId": "14904333240138417226"
     },
     "user_tz": -300
    },
    "id": "nrM5GLhBxpS9"
   },
   "outputs": [],
   "source": [
    "# первоначальное точка\n",
    "start_point = 5\n",
    "\n",
    "# размер шага(learning rate)\n",
    "learning_rate = 0.1\n",
    "\n",
    "# установка минимального значения, на которое должны изменяться веса\n",
    "eps = 0.0001\n",
    "\n",
    "func = lambda x: 2 * x ** 2\n",
    "# функция градиента для y = 2 * X**2\n",
    "gr_func = lambda x: 4 * x\n",
    "\n",
    "# для картинки\n",
    "D = 5\n",
    "\n",
    "X = np.linspace(-D, +D, 20)\n",
    "Y = func(X)\n",
    "\n",
    "# начальная точка\n",
    "next_point = start_point\n",
    "\n",
    "n_iter = 0\n",
    "\n",
    "x = []\n",
    "x.append(next_point)"
   ]
  },
  {
   "cell_type": "code",
   "execution_count": 8,
   "metadata": {
    "colab": {
     "base_uri": "https://localhost:8080/",
     "height": 735
    },
    "executionInfo": {
     "elapsed": 1134,
     "status": "ok",
     "timestamp": 1617558664526,
     "user": {
      "displayName": "Julia Ponomareva",
      "photoUrl": "https://lh3.googleusercontent.com/a-/AOh14Giimaqepqa7diwYfGdfG3eO8yvg2qDwve3KonGv=s64",
      "userId": "14904333240138417226"
     },
     "user_tz": -300
    },
    "id": "_NNkJ82txpS-",
    "outputId": "54da32e8-e9c9-46e0-bd03-fed555aa3ff5"
   },
   "outputs": [
    {
     "name": "stdout",
     "output_type": "stream",
     "text": [
      "Итерация: 1\n",
      "Текущая точка 5| Следующаяя точка 3.0\n",
      "--------------------------------------------------------\n",
      "Итерация: 2\n",
      "Текущая точка 3.0| Следующаяя точка 1.7999999999999998\n",
      "--------------------------------------------------------\n",
      "Итерация: 3\n",
      "Текущая точка 1.7999999999999998| Следующаяя точка 1.0799999999999998\n",
      "--------------------------------------------------------\n",
      "Итерация: 4\n",
      "Текущая точка 1.0799999999999998| Следующаяя точка 0.6479999999999999\n",
      "--------------------------------------------------------\n",
      "Итерация: 5\n",
      "Текущая точка 0.6479999999999999| Следующаяя точка 0.3887999999999999\n",
      "--------------------------------------------------------\n",
      "Итерация: 6\n",
      "Текущая точка 0.3887999999999999| Следующаяя точка 0.23327999999999993\n",
      "--------------------------------------------------------\n",
      "Итерация: 7\n",
      "Текущая точка 0.23327999999999993| Следующаяя точка 0.13996799999999995\n",
      "--------------------------------------------------------\n",
      "Итерация: 8\n",
      "Текущая точка 0.13996799999999995| Следующаяя точка 0.08398079999999997\n",
      "--------------------------------------------------------\n",
      "Итерация: 9\n",
      "Текущая точка 0.08398079999999997| Следующаяя точка 0.05038847999999998\n",
      "--------------------------------------------------------\n",
      "Итерация: 10\n",
      "Текущая точка 0.05038847999999998| Следующаяя точка 0.030233087999999984\n",
      "--------------------------------------------------------\n",
      "минимум 0.030233087999999984, количество затраченных итераций: 10\n"
     ]
    },
    {
     "data": {
      "image/png": "[encoded data removed]",
      "text/plain": [
       "<Figure size 1152x144 with 1 Axes>"
      ]
     },
     "metadata": {
      "needs_background": "light"
     },
     "output_type": "display_data"
    }
   ],
   "source": [
    "plt.figure(figsize=(16, 2))\n",
    "plt.plot(X, Y, 'r', label='Y(X)')\n",
    "\n",
    "# количество итерация \n",
    "n = 10\n",
    "for i in range(n):\n",
    "    current_point = next_point\n",
    "\n",
    "    # движение в негативную сторону вычисляемого градиента\n",
    "    next_point = current_point - learning_rate * gr_func(current_point)\n",
    "    x.append(next_point)\n",
    "    # print(next_point)                                     \n",
    "\n",
    "    n_iter += 1\n",
    "\n",
    "    # остановка когда достигнута необходимая степень точности\n",
    "    print(f\"Итерация: {n_iter}\")\n",
    "    print(f\"Текущая точка {current_point}| Следующаяя точка {next_point}\")\n",
    "    print(\"--------------------------------------------------------\")\n",
    "    \n",
    "    \n",
    "    if(abs(current_point - next_point) <= eps):\n",
    "        break\n",
    "\n",
    "print(f\"минимум {next_point}, количество затраченных итераций: {n_iter}\") \n",
    "X_grad = np.array(x)\n",
    "plt.plot(X_grad, func(X_grad), '-*g', label = 'GD')\n",
    "plt.legend()\n",
    "plt.xlabel('X')\n",
    "plt.ylabel('Y')\n",
    "plt.show()"
   ]
  },
  {
   "cell_type": "markdown",
   "metadata": {
    "id": "js1pu68S_Pn6"
   },
   "source": [
    "### Метод обратного распространения ошибки (backpropagation)\n",
    "\n",
    "<img src='https://drive.google.com/uc?export=view&id=1HyKXUNjUD80-Wk458JW7ZCqgH0HhX6-m'>"
   ]
  },
  {
   "cell_type": "markdown",
   "metadata": {
    "id": "OnaUBAX7Zazp"
   },
   "source": [
    "## Небольшой пример по обучению простой нейронной сети <a class='anchor' id='example'>\n",
    "\n",
    "\n",
    "Рассмотрим создание простой нейронной сети. Данная нейронная сеть будет обучаться предсказывать 3 число на основании первых двух. Для этого мы ей передадим обучающую набор данных из двух последовательностей чисел.\n",
    "\n",
    "Этот пример позволяет создать и запустить простейшую нейронную сеть, но уже  в этом примере присутсвуют все необходимые атрибуты создания нейронных сетей: \n",
    "- подготовка данных для обучения модели\n",
    "- конфигурация модели\n",
    "- запуск модели.\n",
    "\n",
    "Дальше мы разберем, что такое функция активации, обратное распространение, внутренние слои нейронной сети и прочие аспекты создания нейронных сетей.\n",
    "Обратите внимание, что здесь используется библиотека numpy для получения дополнительных команд при работе с массивами."
   ]
  },
  {
   "cell_type": "markdown",
   "metadata": {
    "id": "kbHLAHXX5OSF"
   },
   "source": [
    "### Нейрон для повторения входа <a class='anchor' id='repeat'>"
   ]
  },
  {
   "cell_type": "markdown",
   "metadata": {
    "id": "8HIfWUM8xpTI"
   },
   "source": [
    "**Производная сигмоиды**\n",
    "\n",
    "$$\\sigma(z) = \\frac{1}{1 + exp(-z)}$$\n",
    "\n",
    "$$\\frac{d\\sigma(z)}{dz} = -\\frac{1}{(1 + exp(-z))^2}(-exp(-z)) = \\frac{exp(-z)}{(1 + exp(-z))^2} \\text{(*)} = \\frac{1}{1 + exp(-z)}(1-\\frac{1}{1 + exp(-z)}) = \\sigma(1-\\sigma)$$\n",
    "\n",
    "$ (*)\\frac{exp(-z) +1-1}{(1 + exp(-z))^2} = \\frac{1 + exp(-z) -1}{(1 + exp(-z))^2}= \\frac{1 + exp(-z)}{(1 + exp(-z))^2} - \\frac{1}{(1 + exp(-z))^2}=$\n",
    "\n",
    "$ = \\frac{1}{(1 + exp(-z))} - \\frac{1}{(1 + exp(-z))}\\frac{1}{(1 + exp(-z))} = \\frac{1}{(1 + exp(-z))}(1- \\frac{1}{(1 + exp(-z))}) $"
   ]
  },
  {
   "cell_type": "code",
   "execution_count": 9,
   "metadata": {
    "executionInfo": {
     "elapsed": 1225,
     "status": "ok",
     "timestamp": 1617558908138,
     "user": {
      "displayName": "Julia Ponomareva",
      "photoUrl": "https://lh3.googleusercontent.com/a-/AOh14Giimaqepqa7diwYfGdfG3eO8yvg2qDwve3KonGv=s64",
      "userId": "14904333240138417226"
     },
     "user_tz": -300
    },
    "id": "shMVcQDelkhP"
   },
   "outputs": [],
   "source": [
    "import numpy as np\n",
    "import matplotlib.pyplot as plt\n",
    "\n",
    "\n",
    "# вычисление сигмоид функции\n",
    "def sigmoid(x):\n",
    "    return 1 / (1 + np.exp(-x))\n",
    "\n",
    "# вычисление производной от сигмоид функции\n",
    "def sigmoid_deriv(x):\n",
    "    return sigmoid(x) * (1 - sigmoid(x))"
   ]
  },
  {
   "cell_type": "code",
   "execution_count": 10,
   "metadata": {
    "colab": {
     "base_uri": "https://localhost:8080/",
     "height": 279
    },
    "executionInfo": {
     "elapsed": 1207,
     "status": "ok",
     "timestamp": 1617558909074,
     "user": {
      "displayName": "Julia Ponomareva",
      "photoUrl": "https://lh3.googleusercontent.com/a-/AOh14Giimaqepqa7diwYfGdfG3eO8yvg2qDwve3KonGv=s64",
      "userId": "14904333240138417226"
     },
     "user_tz": -300
    },
    "id": "JG_4MLpcvRBL",
    "outputId": "096e5873-54b9-4dac-d2e8-dbf2211f2860"
   },
   "outputs": [
    {
     "data": {
      "image/png": "[encoded data removed]",
      "text/plain": [
       "<Figure size 432x288 with 1 Axes>"
      ]
     },
     "metadata": {
      "needs_background": "light"
     },
     "output_type": "display_data"
    }
   ],
   "source": [
    "# для картинки\n",
    "D  = 10\n",
    "\n",
    "X = np.linspace(0-D, 0+D, 200)\n",
    "Y = sigmoid(X)\n",
    "Y_deriv = sigmoid_deriv(X)\n",
    "\n",
    "plt.plot(X, Y, '-g', label='сигмоид')\n",
    "plt.plot(X, Y_deriv, '-r', label='производная сигмоиды')\n",
    "\n",
    "plt.legend()\n",
    "plt.xlabel('X')\n",
    "plt.ylabel('Y')\n",
    "plt.show()"
   ]
  },
  {
   "cell_type": "code",
   "execution_count": 11,
   "metadata": {
    "colab": {
     "base_uri": "https://localhost:8080/",
     "height": 54
    },
    "executionInfo": {
     "elapsed": 922,
     "status": "ok",
     "timestamp": 1617558952269,
     "user": {
      "displayName": "Julia Ponomareva",
      "photoUrl": "https://lh3.googleusercontent.com/a-/AOh14Giimaqepqa7diwYfGdfG3eO8yvg2qDwve3KonGv=s64",
      "userId": "14904333240138417226"
     },
     "user_tz": -300
    },
    "id": "0SD974ixZazx",
    "outputId": "ed0bd4cd-bd96-4d77-ffb7-ac90a7f88063"
   },
   "outputs": [
    {
     "data": {
      "text/plain": [
       "array([[0.417022]])"
      ]
     },
     "metadata": {},
     "output_type": "display_data"
    },
    {
     "data": {
      "text/plain": [
       "array([[0.72032449]])"
      ]
     },
     "metadata": {},
     "output_type": "display_data"
    }
   ],
   "source": [
    "# создание данных для обучения\n",
    "X = np.array([[1]])\n",
    "y = np.array([[1]]).T\n",
    "\n",
    "# генерации случайных чисел для инициализации весов\n",
    "np.random.seed(1)\n",
    "weights = np.random.random((X.shape[1], 1))\n",
    "bias = np.random.random((1, 1))\n",
    "\n",
    "display(weights, bias)"
   ]
  },
  {
   "cell_type": "markdown",
   "metadata": {
    "id": "jZcr2ibicKgu"
   },
   "source": [
    "forward"
   ]
  },
  {
   "cell_type": "code",
   "execution_count": 12,
   "metadata": {
    "colab": {
     "base_uri": "https://localhost:8080/"
    },
    "executionInfo": {
     "elapsed": 1202,
     "status": "ok",
     "timestamp": 1617559482560,
     "user": {
      "displayName": "Julia Ponomareva",
      "photoUrl": "https://lh3.googleusercontent.com/a-/AOh14Giimaqepqa7diwYfGdfG3eO8yvg2qDwve3KonGv=s64",
      "userId": "14904333240138417226"
     },
     "user_tz": -300
    },
    "id": "d8k3tq4kbT-1",
    "outputId": "cefb4283-4230-48d5-ca13-6f6dbb0a531a"
   },
   "outputs": [
    {
     "data": {
      "text/plain": [
       "array([[0.75719212]])"
      ]
     },
     "execution_count": 12,
     "metadata": {},
     "output_type": "execute_result"
    }
   ],
   "source": [
    "# сделаем предсказание\n",
    "output = X * weights + bias\n",
    "pred = sigmoid(output)\n",
    "pred"
   ]
  },
  {
   "cell_type": "code",
   "execution_count": 13,
   "metadata": {
    "colab": {
     "base_uri": "https://localhost:8080/"
    },
    "executionInfo": {
     "elapsed": 681,
     "status": "ok",
     "timestamp": 1617559485683,
     "user": {
      "displayName": "Julia Ponomareva",
      "photoUrl": "https://lh3.googleusercontent.com/a-/AOh14Giimaqepqa7diwYfGdfG3eO8yvg2qDwve3KonGv=s64",
      "userId": "14904333240138417226"
     },
     "user_tz": -300
    },
    "id": "uBaHFx3EbsbZ",
    "outputId": "0e9bcd63-b414-495a-c8a6-f164e5232fb3"
   },
   "outputs": [
    {
     "data": {
      "text/plain": [
       "array([[0.05895567]])"
      ]
     },
     "execution_count": 13,
     "metadata": {},
     "output_type": "execute_result"
    }
   ],
   "source": [
    "# ошибка\n",
    "(y - pred) ** 2"
   ]
  },
  {
   "cell_type": "markdown",
   "metadata": {
    "id": "pbcKYkBYcL6k"
   },
   "source": [
    "Backward\n",
    "\n",
    "[Ссылка](https://docs.google.com/presentation/d/1Sfj8l91QFkFA6kMCe4CStCRDH5-pmfnZc8AEe8ujudg/edit?usp=sharing) на презентацию.\n",
    "\n",
    "**dL/dL**\n",
    "\n",
    "$\\frac{dL}{dL} = 1$\n",
    "\n",
    "**dL/dsigma**\n",
    "\n",
    "$Loss = (y - pred)^2$\n",
    "\n",
    "<h3>$\\frac{dL}{\\sigma} = 2*\\frac{dL}{dL}\\frac{dL}{d\\sigma} = 2 * (pred - y) = 2 *(0.757 - 1) = -0.484$</h3>\n",
    "\n",
    "\n",
    "**dL/db**\n",
    "\n",
    "$y_{pred} = \\sigma(output)$\n",
    "\n",
    "<h3>$\\frac{dL}{db} = \\frac{dL}{d\\sigma}\\frac{d\\sigma}{db} = -0.484 * (0.757 * (1-0.757)) = -0.089$</h3>\n",
    "\n",
    "**dL/da**\n",
    "\n",
    "$b = w_0 + a$\n",
    "\n",
    "<h3>$\\frac{dL}{da} = \\frac{dL}{db}\\frac{db}{da} = -0.089 * 1$</h3>\n",
    "\n",
    "**dL/dw0**\n",
    "\n",
    "$b = w_0 + a$\n",
    "\n",
    "<h3>$\\frac{dL}{dw_0} = \\frac{dL}{db}\\frac{db}{dw_0} = -0.089 * 1$</h3>\n",
    "\n",
    "**dL/dw1**\n",
    "\n",
    "$a = w_1*x$\n",
    "\n",
    "<h3>$\\frac{dL}{dw_1} = \\frac{dL}{da}\\frac{da}{dw_1} = -0.089 * x = -0.089 * 1$</h3>\n",
    "\n"
   ]
  },
  {
   "cell_type": "code",
   "execution_count": 14,
   "metadata": {
    "colab": {
     "base_uri": "https://localhost:8080/"
    },
    "executionInfo": {
     "elapsed": 945,
     "status": "ok",
     "timestamp": 1617559493087,
     "user": {
      "displayName": "Julia Ponomareva",
      "photoUrl": "https://lh3.googleusercontent.com/a-/AOh14Giimaqepqa7diwYfGdfG3eO8yvg2qDwve3KonGv=s64",
      "userId": "14904333240138417226"
     },
     "user_tz": -300
    },
    "id": "d0TKc_pKcNtR",
    "outputId": "b63980e2-1d1a-4aee-812d-1ddf7569dd26"
   },
   "outputs": [
    {
     "data": {
      "text/plain": [
       "array([[-0.08928153]])"
      ]
     },
     "execution_count": 14,
     "metadata": {},
     "output_type": "execute_result"
    }
   ],
   "source": [
    "# сделаем backprop\n",
    "# dloss/dloss = 1\n",
    "dsigm = 2 * (pred - y)\n",
    "dsigm\n",
    "db = dsigm * sigmoid_deriv(output)\n",
    "db\n",
    "da = 1 * db\n",
    "da\n",
    "dw0 = 1 * db\n",
    "dw0\n",
    "dw1 = da * X\n",
    "dw1"
   ]
  },
  {
   "cell_type": "code",
   "execution_count": 15,
   "metadata": {
    "executionInfo": {
     "elapsed": 977,
     "status": "ok",
     "timestamp": 1617559497428,
     "user": {
      "displayName": "Julia Ponomareva",
      "photoUrl": "https://lh3.googleusercontent.com/a-/AOh14Giimaqepqa7diwYfGdfG3eO8yvg2qDwve3KonGv=s64",
      "userId": "14904333240138417226"
     },
     "user_tz": -300
    },
    "id": "OcyWYrlevPfZ"
   },
   "outputs": [],
   "source": [
    "# обновим параметры\n",
    "bias -= dw0\n",
    "weights -= dw1"
   ]
  },
  {
   "cell_type": "code",
   "execution_count": 16,
   "metadata": {
    "colab": {
     "base_uri": "https://localhost:8080/"
    },
    "executionInfo": {
     "elapsed": 941,
     "status": "ok",
     "timestamp": 1617559499904,
     "user": {
      "displayName": "Julia Ponomareva",
      "photoUrl": "https://lh3.googleusercontent.com/a-/AOh14Giimaqepqa7diwYfGdfG3eO8yvg2qDwve3KonGv=s64",
      "userId": "14904333240138417226"
     },
     "user_tz": -300
    },
    "id": "o235htk3vefB",
    "outputId": "3d13735a-afa9-4580-a22d-1eef4849b4ec"
   },
   "outputs": [
    {
     "data": {
      "text/plain": [
       "array([[0.78850036]])"
      ]
     },
     "execution_count": 16,
     "metadata": {},
     "output_type": "execute_result"
    }
   ],
   "source": [
    "sigmoid(np.dot(X, weights) + bias)"
   ]
  },
  {
   "cell_type": "markdown",
   "metadata": {
    "id": "urUkYJggwZaP"
   },
   "source": [
    "#### Обучение на большем количестве объектов"
   ]
  },
  {
   "cell_type": "code",
   "execution_count": 17,
   "metadata": {
    "colab": {
     "base_uri": "https://localhost:8080/",
     "height": 54
    },
    "executionInfo": {
     "elapsed": 909,
     "status": "ok",
     "timestamp": 1617559535128,
     "user": {
      "displayName": "Julia Ponomareva",
      "photoUrl": "https://lh3.googleusercontent.com/a-/AOh14Giimaqepqa7diwYfGdfG3eO8yvg2qDwve3KonGv=s64",
      "userId": "14904333240138417226"
     },
     "user_tz": -300
    },
    "id": "-vyI2DShwb1i",
    "outputId": "a15494fd-b296-48c2-c772-bc4a99a6c809"
   },
   "outputs": [
    {
     "data": {
      "text/plain": [
       "array([[0.417022]])"
      ]
     },
     "metadata": {},
     "output_type": "display_data"
    },
    {
     "data": {
      "text/plain": [
       "array([[0.72032449]])"
      ]
     },
     "metadata": {},
     "output_type": "display_data"
    }
   ],
   "source": [
    "# создание данных для обучения\n",
    "X = np.array([[0], [1]])\n",
    "y = np.array([[0, 1]]).T\n",
    "\n",
    "# генерации случайных чисел для инициализации весов\n",
    "np.random.seed(1)\n",
    "weights = np.random.random((X.shape[1], 1))\n",
    "bias = np.random.random((1, 1))\n",
    "\n",
    "display(weights, bias)"
   ]
  },
  {
   "cell_type": "markdown",
   "metadata": {
    "id": "7vx5tge-wi2g"
   },
   "source": [
    "Forward"
   ]
  },
  {
   "cell_type": "code",
   "execution_count": 18,
   "metadata": {
    "colab": {
     "base_uri": "https://localhost:8080/"
    },
    "executionInfo": {
     "elapsed": 1275,
     "status": "ok",
     "timestamp": 1617559684699,
     "user": {
      "displayName": "Julia Ponomareva",
      "photoUrl": "https://lh3.googleusercontent.com/a-/AOh14Giimaqepqa7diwYfGdfG3eO8yvg2qDwve3KonGv=s64",
      "userId": "14904333240138417226"
     },
     "user_tz": -300
    },
    "id": "xdTuxZWgwgjh",
    "outputId": "76b02288-5bf7-483a-8494-5ebe9ae48f84"
   },
   "outputs": [
    {
     "data": {
      "text/plain": [
       "array([[0.67267847],\n",
       "       [0.75719212]])"
      ]
     },
     "execution_count": 18,
     "metadata": {},
     "output_type": "execute_result"
    }
   ],
   "source": [
    "# сделаем предсказание\n",
    "output = X * weights + bias\n",
    "pred = sigmoid(output)\n",
    "pred"
   ]
  },
  {
   "cell_type": "code",
   "execution_count": 19,
   "metadata": {
    "colab": {
     "base_uri": "https://localhost:8080/"
    },
    "executionInfo": {
     "elapsed": 594,
     "status": "ok",
     "timestamp": 1617559685053,
     "user": {
      "displayName": "Julia Ponomareva",
      "photoUrl": "https://lh3.googleusercontent.com/a-/AOh14Giimaqepqa7diwYfGdfG3eO8yvg2qDwve3KonGv=s64",
      "userId": "14904333240138417226"
     },
     "user_tz": -300
    },
    "id": "fUSwP3WywmyI",
    "outputId": "082f3be9-ba88-4cfc-9322-36a8f23d5e98"
   },
   "outputs": [
    {
     "data": {
      "text/plain": [
       "0.2557259944893541"
      ]
     },
     "execution_count": 19,
     "metadata": {},
     "output_type": "execute_result"
    }
   ],
   "source": [
    "# ошибка\n",
    "np.mean((y - pred) ** 2)"
   ]
  },
  {
   "cell_type": "markdown",
   "metadata": {
    "id": "2HzkMaQywpGU"
   },
   "source": [
    "Backward"
   ]
  },
  {
   "cell_type": "code",
   "execution_count": 20,
   "metadata": {
    "colab": {
     "base_uri": "https://localhost:8080/"
    },
    "executionInfo": {
     "elapsed": 633,
     "status": "ok",
     "timestamp": 1617559689069,
     "user": {
      "displayName": "Julia Ponomareva",
      "photoUrl": "https://lh3.googleusercontent.com/a-/AOh14Giimaqepqa7diwYfGdfG3eO8yvg2qDwve3KonGv=s64",
      "userId": "14904333240138417226"
     },
     "user_tz": -300
    },
    "id": "snGcmlFBwq2Y",
    "outputId": "7f4a3e38-b14d-462a-c4e1-f44a32944839"
   },
   "outputs": [
    {
     "name": "stdout",
     "output_type": "stream",
     "text": [
      "[[ 0.67267847]\n",
      " [-0.24280788]]\n",
      "[[ 0.14811179]\n",
      " [-0.04464077]]\n",
      "[[ 0.14811179]\n",
      " [-0.04464077]]\n",
      "[0.10347102]\n",
      "[-0.04464077]\n"
     ]
    }
   ],
   "source": [
    "# сделаем backprop\n",
    "# dloss/dloss = 1\n",
    "dsigm = (pred - y)\n",
    "print(dsigm)\n",
    "db = dsigm * sigmoid_deriv(output)\n",
    "print(db)\n",
    "da = 1 * db\n",
    "print(da)\n",
    "dw0 = np.ones((X.shape[0])) @ db\n",
    "print(dw0)\n",
    "dw1 = np.ones((X.shape[0])) @ (da * X)\n",
    "# dw1 = da.T @ X\n",
    "print(dw1)"
   ]
  },
  {
   "cell_type": "code",
   "execution_count": 21,
   "metadata": {
    "executionInfo": {
     "elapsed": 1023,
     "status": "ok",
     "timestamp": 1617559692267,
     "user": {
      "displayName": "Julia Ponomareva",
      "photoUrl": "https://lh3.googleusercontent.com/a-/AOh14Giimaqepqa7diwYfGdfG3eO8yvg2qDwve3KonGv=s64",
      "userId": "14904333240138417226"
     },
     "user_tz": -300
    },
    "id": "p_0suX4Eww5g"
   },
   "outputs": [],
   "source": [
    "# обновим параметры\n",
    "bias -= dw0\n",
    "weights -= dw1"
   ]
  },
  {
   "cell_type": "code",
   "execution_count": 22,
   "metadata": {
    "colab": {
     "base_uri": "https://localhost:8080/"
    },
    "executionInfo": {
     "elapsed": 1013,
     "status": "ok",
     "timestamp": 1617559695032,
     "user": {
      "displayName": "Julia Ponomareva",
      "photoUrl": "https://lh3.googleusercontent.com/a-/AOh14Giimaqepqa7diwYfGdfG3eO8yvg2qDwve3KonGv=s64",
      "userId": "14904333240138417226"
     },
     "user_tz": -300
    },
    "id": "EN5L1dbr0Ttk",
    "outputId": "f925341c-2946-484a-dcc4-e1c45b8a0f22"
   },
   "outputs": [
    {
     "data": {
      "text/plain": [
       "array([[0.64950258],\n",
       "       [0.74621309]])"
      ]
     },
     "execution_count": 22,
     "metadata": {},
     "output_type": "execute_result"
    }
   ],
   "source": [
    "# сделаем предсказания\n",
    "sigmoid(np.dot(X, weights) + bias)"
   ]
  },
  {
   "cell_type": "code",
   "execution_count": 23,
   "metadata": {
    "executionInfo": {
     "elapsed": 1041,
     "status": "ok",
     "timestamp": 1617559799042,
     "user": {
      "displayName": "Julia Ponomareva",
      "photoUrl": "https://lh3.googleusercontent.com/a-/AOh14Giimaqepqa7diwYfGdfG3eO8yvg2qDwve3KonGv=s64",
      "userId": "14904333240138417226"
     },
     "user_tz": -300
    },
    "id": "TnLqhNBsZazy"
   },
   "outputs": [],
   "source": [
    "# тренировка нейронной сети\n",
    "def train_nn(X, y, num_iters):\n",
    "    global weights, bias\n",
    "    for n_iter in range(num_iters):\n",
    "        # проход данных через нейрон\n",
    "        output = run_nn(X)\n",
    "\n",
    "        # вычисление ошибки через обратное распространение back-propagation\n",
    "        error = output - y\n",
    "            \n",
    "        # выполнение корректировки весов\n",
    "        grad = np.dot(X.T, error * sigmoid_deriv(output))\n",
    "        grad_bias = np.sum(error * sigmoid_deriv(output), keepdims=1)\n",
    "        weights -= grad\n",
    "        bias -= grad_bias\n",
    "\n",
    "\n",
    "# пропускание входных данных через нейрон и получение предсказания\n",
    "# конвертация значений во floats\n",
    "def run_nn(inputs):\n",
    "    global weights, bias\n",
    "    inputs = inputs.astype(float)\n",
    "    output = sigmoid(np.dot(inputs, weights) + bias)\n",
    "    return output"
   ]
  },
  {
   "cell_type": "code",
   "execution_count": 24,
   "metadata": {
    "colab": {
     "base_uri": "https://localhost:8080/"
    },
    "executionInfo": {
     "elapsed": 6380,
     "status": "ok",
     "timestamp": 1617559838962,
     "user": {
      "displayName": "Julia Ponomareva",
      "photoUrl": "https://lh3.googleusercontent.com/a-/AOh14Giimaqepqa7diwYfGdfG3eO8yvg2qDwve3KonGv=s64",
      "userId": "14904333240138417226"
     },
     "user_tz": -300
    },
    "id": "7Po8MkWVZaz0",
    "outputId": "087cc0a3-6d89-4034-ce2c-41e0440c5b42"
   },
   "outputs": [
    {
     "name": "stdout",
     "output_type": "stream",
     "text": [
      "веса до обучения: \n",
      "[[0.417022]] [[0.72032449]]\n",
      "веса после завершения обучения: \n",
      "[[18.21983522]] [[-9.02726036]]\n"
     ]
    }
   ],
   "source": [
    "# генерации случайных чисел для инициализации весов\n",
    "np.random.seed(1)\n",
    "weights = np.random.random((X.shape[1], 1))\n",
    "bias = np.random.random((1, 1))\n",
    "print(\"веса до обучения: \")\n",
    "print(weights, bias)\n",
    "\n",
    "# запуск тренировки нейронной сети \n",
    "train_nn(X, y, 100000)\n",
    "print(\"веса после завершения обучения: \")\n",
    "print(weights, bias)"
   ]
  },
  {
   "cell_type": "code",
   "execution_count": 25,
   "metadata": {
    "colab": {
     "base_uri": "https://localhost:8080/"
    },
    "executionInfo": {
     "elapsed": 5402,
     "status": "ok",
     "timestamp": 1617559838967,
     "user": {
      "displayName": "Julia Ponomareva",
      "photoUrl": "https://lh3.googleusercontent.com/a-/AOh14Giimaqepqa7diwYfGdfG3eO8yvg2qDwve3KonGv=s64",
      "userId": "14904333240138417226"
     },
     "user_tz": -300
    },
    "id": "FYuewRwUZaz0",
    "outputId": "8de0d955-dae5-4bbf-c138-7557e3c9100e"
   },
   "outputs": [
    {
     "name": "stdout",
     "output_type": "stream",
     "text": [
      "Проверка на новых данных: 0 1\n",
      "Предсказание нейронной сети: \n",
      "[[1.20076629e-04]\n",
      " [9.99898218e-01]]\n"
     ]
    }
   ],
   "source": [
    "user_inp1, user_inp2 = 0, 1\n",
    "print(f\"Проверка на новых данных: {user_inp1} {user_inp2}\")\n",
    "print(\"Предсказание нейронной сети: \")\n",
    "print(run_nn(np.array([[user_inp1], [user_inp2]])))"
   ]
  },
  {
   "cell_type": "markdown",
   "metadata": {
    "id": "UbPEzBco35nQ"
   },
   "source": [
    "### Нейрон для регрессии <a class='anchor' id='reg'>"
   ]
  },
  {
   "cell_type": "code",
   "execution_count": 26,
   "metadata": {
    "executionInfo": {
     "elapsed": 1393,
     "status": "ok",
     "timestamp": 1617555004800,
     "user": {
      "displayName": "Julia Ponomareva",
      "photoUrl": "https://lh3.googleusercontent.com/a-/AOh14Giimaqepqa7diwYfGdfG3eO8yvg2qDwve3KonGv=s64",
      "userId": "14904333240138417226"
     },
     "user_tz": -300
    },
    "id": "6pW0jGfCZ6ju"
   },
   "outputs": [],
   "source": [
    "# вычисление ReLU функции\n",
    "\n",
    "def ReLU(x):\n",
    "    return x * (x > 0)"
   ]
  },
  {
   "cell_type": "code",
   "execution_count": 27,
   "metadata": {
    "executionInfo": {
     "elapsed": 1793,
     "status": "ok",
     "timestamp": 1617560350400,
     "user": {
      "displayName": "Julia Ponomareva",
      "photoUrl": "https://lh3.googleusercontent.com/a-/AOh14Giimaqepqa7diwYfGdfG3eO8yvg2qDwve3KonGv=s64",
      "userId": "14904333240138417226"
     },
     "user_tz": -300
    },
    "id": "V_T3b8k1Z6ju"
   },
   "outputs": [],
   "source": [
    "def ReLU_deriv(x):\n",
    "    return np.where(x >= 0, 1, 0)"
   ]
  },
  {
   "cell_type": "code",
   "execution_count": 28,
   "metadata": {
    "colab": {
     "base_uri": "https://localhost:8080/",
     "height": 279
    },
    "executionInfo": {
     "elapsed": 863,
     "status": "ok",
     "timestamp": 1617555004805,
     "user": {
      "displayName": "Julia Ponomareva",
      "photoUrl": "https://lh3.googleusercontent.com/a-/AOh14Giimaqepqa7diwYfGdfG3eO8yvg2qDwve3KonGv=s64",
      "userId": "14904333240138417226"
     },
     "user_tz": -300
    },
    "id": "7n-QyZxWZ6ju",
    "outputId": "095f9c7d-b8ec-4db9-b7c4-9dec84cf0b0f"
   },
   "outputs": [
    {
     "data": {
      "image/png": "[encoded data removed]",
      "text/plain": [
       "<Figure size 432x288 with 1 Axes>"
      ]
     },
     "metadata": {
      "needs_background": "light"
     },
     "output_type": "display_data"
    }
   ],
   "source": [
    "# для картинки\n",
    "D = 10\n",
    "\n",
    "X = np.linspace(0-D, 0+D, 200)\n",
    "Y = ReLU(X)\n",
    "dY = ReLU_deriv(X)\n",
    "\n",
    "plt.plot(X, Y, '-g', label='ReLU')\n",
    "plt.plot(X, dY, '-r', label='d ReLU')\n",
    "plt.legend()\n",
    "plt.xlabel('X')\n",
    "plt.ylabel('Y')\n",
    "plt.show()"
   ]
  },
  {
   "cell_type": "code",
   "execution_count": 29,
   "metadata": {
    "executionInfo": {
     "elapsed": 737,
     "status": "ok",
     "timestamp": 1617560446305,
     "user": {
      "displayName": "Julia Ponomareva",
      "photoUrl": "https://lh3.googleusercontent.com/a-/AOh14Giimaqepqa7diwYfGdfG3eO8yvg2qDwve3KonGv=s64",
      "userId": "14904333240138417226"
     },
     "user_tz": -300
    },
    "id": "wTg32_0936kb"
   },
   "outputs": [],
   "source": [
    "# тренировка нейронной сети\n",
    "def train_nn(X, y, num_iters):\n",
    "    global weights, bias\n",
    "    for n_iter in range(num_iters):\n",
    "        # проход данных через нейрон\n",
    "        output = run_nn(X)\n",
    "\n",
    "        # вычисление ошибки через обратное распространение back-propagation\n",
    "        error = output - y\n",
    "            \n",
    "        # выполнение корректировки весов\n",
    "        grad = np.dot(X.T, error * ReLU_deriv(output))\n",
    "        grad_bias = np.sum(error * ReLU_deriv(output), keepdims=1)\n",
    "        weights -= 0.01 * grad\n",
    "        bias -= 0.01 * grad_bias\n",
    "\n",
    "\n",
    "# пропускание входных данных через нейрон и получение предсказания\n",
    "# конвертация значений во floats\n",
    "def run_nn(inputs):\n",
    "    global weights, bias\n",
    "    inputs = inputs.astype(float)\n",
    "    output = ReLU(np.dot(inputs, weights) + bias)\n",
    "    return output"
   ]
  },
  {
   "cell_type": "code",
   "execution_count": 30,
   "metadata": {
    "colab": {
     "base_uri": "https://localhost:8080/"
    },
    "executionInfo": {
     "elapsed": 1292,
     "status": "ok",
     "timestamp": 1617560492741,
     "user": {
      "displayName": "Julia Ponomareva",
      "photoUrl": "https://lh3.googleusercontent.com/a-/AOh14Giimaqepqa7diwYfGdfG3eO8yvg2qDwve3KonGv=s64",
      "userId": "14904333240138417226"
     },
     "user_tz": -300
    },
    "id": "mZKjT7RK4H3j",
    "outputId": "2c1d2748-7771-4f73-b3ff-4349c5099de3"
   },
   "outputs": [
    {
     "name": "stdout",
     "output_type": "stream",
     "text": [
      "веса до обучения: \n",
      "[[0.417022]] [[0.72032449]]\n",
      "веса после завершения обучения: \n",
      "[[3.]] [[3.10711067e-15]]\n"
     ]
    }
   ],
   "source": [
    "# создание данных для обучения\n",
    "X = np.array([[1], [3], [2], [4], [7]])\n",
    "y = np.array([[3, 9, 6, 12, 21]]).T\n",
    "\n",
    "# генерации случайных чисел для инициализации весов\n",
    "np.random.seed(1)\n",
    "weights = np.random.random((X.shape[1], 1))\n",
    "bias = np.random.random((1, 1))\n",
    "print(\"веса до обучения: \")\n",
    "print(weights, bias)\n",
    "\n",
    "# запуск тренировки нейронной сети \n",
    "train_nn(X, y, 10000)\n",
    "print(\"веса после завершения обучения: \")\n",
    "print(weights, bias)"
   ]
  },
  {
   "cell_type": "code",
   "execution_count": 31,
   "metadata": {
    "colab": {
     "base_uri": "https://localhost:8080/"
    },
    "executionInfo": {
     "elapsed": 790,
     "status": "ok",
     "timestamp": 1617560492745,
     "user": {
      "displayName": "Julia Ponomareva",
      "photoUrl": "https://lh3.googleusercontent.com/a-/AOh14Giimaqepqa7diwYfGdfG3eO8yvg2qDwve3KonGv=s64",
      "userId": "14904333240138417226"
     },
     "user_tz": -300
    },
    "id": "UfhmtnzL9FBr",
    "outputId": "bc20bab3-0fa9-431b-8ac8-ba3a5c0d3a2c"
   },
   "outputs": [
    {
     "name": "stdout",
     "output_type": "stream",
     "text": [
      "Проверка на новых данных: 5 9\n",
      "Предсказание нейронной сети: \n",
      "[[15.]\n",
      " [27.]]\n"
     ]
    }
   ],
   "source": [
    "user_inp1, user_inp2 = 5, 9\n",
    "print(f\"Проверка на новых данных: {user_inp1} {user_inp2}\")\n",
    "print(\"Предсказание нейронной сети: \")\n",
    "print(run_nn(np.array([[user_inp1], [user_inp2]])))"
   ]
  },
  {
   "cell_type": "markdown",
   "metadata": {
    "id": "_WeS0wye5iDR"
   },
   "source": [
    "### Нейрон для многоклассовой классификации <a class='acnhor' id='multiclass'>"
   ]
  },
  {
   "cell_type": "code",
   "execution_count": 32,
   "metadata": {
    "executionInfo": {
     "elapsed": 867,
     "status": "ok",
     "timestamp": 1617560527219,
     "user": {
      "displayName": "Julia Ponomareva",
      "photoUrl": "https://lh3.googleusercontent.com/a-/AOh14Giimaqepqa7diwYfGdfG3eO8yvg2qDwve3KonGv=s64",
      "userId": "14904333240138417226"
     },
     "user_tz": -300
    },
    "id": "ozb9OSh3xpTI"
   },
   "outputs": [],
   "source": [
    "import numpy as np\n",
    "import matplotlib.pyplot as plt\n",
    "\n",
    "\n",
    "# вычисление сигмоид функции\n",
    "def sigmoid(x):\n",
    "    x = np.clip(x, a_min=-500, a_max=500)\n",
    "    return 1 / (1 + np.exp(-x))\n",
    "\n",
    "# вычисление производной от сигмоид функции\n",
    "def sigmoid_deriv(x):\n",
    "    return sigmoid(x) * (1 - sigmoid(x))"
   ]
  },
  {
   "cell_type": "code",
   "execution_count": 33,
   "metadata": {
    "colab": {
     "base_uri": "https://localhost:8080/",
     "height": 279
    },
    "executionInfo": {
     "elapsed": 1038,
     "status": "ok",
     "timestamp": 1617560528207,
     "user": {
      "displayName": "Julia Ponomareva",
      "photoUrl": "https://lh3.googleusercontent.com/a-/AOh14Giimaqepqa7diwYfGdfG3eO8yvg2qDwve3KonGv=s64",
      "userId": "14904333240138417226"
     },
     "user_tz": -300
    },
    "id": "PIC7jBXIxpTI",
    "outputId": "73c9ee8d-ee3e-485f-8cee-546adecfb8d3"
   },
   "outputs": [
    {
     "data": {
      "image/png": "[encoded data removed]",
      "text/plain": [
       "<Figure size 432x288 with 1 Axes>"
      ]
     },
     "metadata": {
      "needs_background": "light"
     },
     "output_type": "display_data"
    }
   ],
   "source": [
    "# для картинки\n",
    "D = 10\n",
    "\n",
    "X = np.linspace(0-D, 0+D, 200)\n",
    "Y = sigmoid(X)\n",
    "dY = sigmoid_deriv(X)\n",
    "\n",
    "plt.plot(X, Y, '-g', label='сигмоид')\n",
    "plt.plot(X, dY, '-r', label='d сигмоид')\n",
    "plt.legend()\n",
    "plt.xlabel('X')\n",
    "plt.ylabel('Y')\n",
    "plt.show()"
   ]
  },
  {
   "cell_type": "code",
   "execution_count": 34,
   "metadata": {
    "colab": {
     "base_uri": "https://localhost:8080/",
     "height": 392
    },
    "executionInfo": {
     "elapsed": 2562,
     "status": "ok",
     "timestamp": 1617560601784,
     "user": {
      "displayName": "Julia Ponomareva",
      "photoUrl": "https://lh3.googleusercontent.com/a-/AOh14Giimaqepqa7diwYfGdfG3eO8yvg2qDwve3KonGv=s64",
      "userId": "14904333240138417226"
     },
     "user_tz": -300
    },
    "id": "z_KsqbZ3xpTJ",
    "outputId": "b2db5c70-7dbb-4eeb-ca43-a789644a089f"
   },
   "outputs": [
    {
     "name": "stdout",
     "output_type": "stream",
     "text": [
      "(1797, 64)\n"
     ]
    },
    {
     "data": {
      "image/png": "[encoded data removed]",
      "text/plain": [
       "<Figure size 1152x432 with 10 Axes>"
      ]
     },
     "metadata": {
      "needs_background": "light"
     },
     "output_type": "display_data"
    }
   ],
   "source": [
    "from sklearn.datasets import load_digits\n",
    "from sklearn.preprocessing import MinMaxScaler\n",
    "import matplotlib.pyplot as plt\n",
    "\n",
    "\n",
    "# Подготовка тренировочных данных\n",
    "X, y = load_digits(return_X_y=True)\n",
    "print(X.shape) # расскоментируйте, чтобы размер данных\n",
    "\n",
    "# репрезентация данных\n",
    "plt.figure(figsize=(16, 6))\n",
    "for i in range(10):\n",
    "    plt.subplot(2, 5, i + 1)\n",
    "    plt.imshow(X[i,:].reshape([8, 8]))"
   ]
  },
  {
   "cell_type": "code",
   "execution_count": 35,
   "metadata": {
    "colab": {
     "base_uri": "https://localhost:8080/"
    },
    "executionInfo": {
     "elapsed": 994,
     "status": "ok",
     "timestamp": 1617560601787,
     "user": {
      "displayName": "Julia Ponomareva",
      "photoUrl": "https://lh3.googleusercontent.com/a-/AOh14Giimaqepqa7diwYfGdfG3eO8yvg2qDwve3KonGv=s64",
      "userId": "14904333240138417226"
     },
     "user_tz": -300
    },
    "id": "_Z1QSqQ0H-C4",
    "outputId": "ebff736d-e531-4a3e-f73e-99c59286a761"
   },
   "outputs": [
    {
     "data": {
      "text/plain": [
       "array([0, 1, 2, ..., 8, 9, 8])"
      ]
     },
     "execution_count": 35,
     "metadata": {},
     "output_type": "execute_result"
    }
   ],
   "source": [
    "y"
   ]
  },
  {
   "cell_type": "code",
   "execution_count": 36,
   "metadata": {
    "executionInfo": {
     "elapsed": 709,
     "status": "ok",
     "timestamp": 1617560637720,
     "user": {
      "displayName": "Julia Ponomareva",
      "photoUrl": "https://lh3.googleusercontent.com/a-/AOh14Giimaqepqa7diwYfGdfG3eO8yvg2qDwve3KonGv=s64",
      "userId": "14904333240138417226"
     },
     "user_tz": -300
    },
    "id": "B-KVdVdVxpTJ"
   },
   "outputs": [],
   "source": [
    "def to_one_hot(Y):\n",
    "    n_col = np.max(Y) + 1\n",
    "    binarized = np.zeros((len(Y), n_col))\n",
    "    for i in range(len(Y)):\n",
    "        binarized[i, Y[i]] = 1\n",
    "    return binarized"
   ]
  },
  {
   "cell_type": "code",
   "execution_count": 37,
   "metadata": {
    "colab": {
     "base_uri": "https://localhost:8080/",
     "height": 163
    },
    "executionInfo": {
     "elapsed": 1003,
     "status": "ok",
     "timestamp": 1617560639015,
     "user": {
      "displayName": "Julia Ponomareva",
      "photoUrl": "https://lh3.googleusercontent.com/a-/AOh14Giimaqepqa7diwYfGdfG3eO8yvg2qDwve3KonGv=s64",
      "userId": "14904333240138417226"
     },
     "user_tz": -300
    },
    "id": "oNJY5ADWxpTK",
    "outputId": "622714f2-af9e-498b-e883-baa1dd2a8f60"
   },
   "outputs": [
    {
     "data": {
      "text/plain": [
       "array([[1., 0., 0., ..., 0., 0., 0.],\n",
       "       [0., 1., 0., ..., 0., 0., 0.],\n",
       "       [0., 0., 1., ..., 0., 0., 0.],\n",
       "       ...,\n",
       "       [0., 0., 0., ..., 0., 1., 0.],\n",
       "       [0., 0., 0., ..., 0., 0., 1.],\n",
       "       [0., 0., 0., ..., 0., 1., 0.]])"
      ]
     },
     "metadata": {},
     "output_type": "display_data"
    },
    {
     "data": {
      "text/plain": [
       "(1797, 10)"
      ]
     },
     "metadata": {},
     "output_type": "display_data"
    }
   ],
   "source": [
    "# формирование входных данных\n",
    "scaler = MinMaxScaler()\n",
    "X = scaler.fit_transform(X)\n",
    "\n",
    "# формирование выходных данных(результатов)\n",
    "y = y.flatten()\n",
    "y = to_one_hot(y)\n",
    "display(y, y.shape)"
   ]
  },
  {
   "cell_type": "code",
   "execution_count": 38,
   "metadata": {
    "colab": {
     "base_uri": "https://localhost:8080/"
    },
    "executionInfo": {
     "elapsed": 745,
     "status": "ok",
     "timestamp": 1617560673067,
     "user": {
      "displayName": "Julia Ponomareva",
      "photoUrl": "https://lh3.googleusercontent.com/a-/AOh14Giimaqepqa7diwYfGdfG3eO8yvg2qDwve3KonGv=s64",
      "userId": "14904333240138417226"
     },
     "user_tz": -300
    },
    "id": "bBJi_H1LxpTL",
    "outputId": "2a7d230f-bf30-4827-b886-62be91ea9127"
   },
   "outputs": [
    {
     "data": {
      "text/plain": [
       "((1203, 64), (594, 64))"
      ]
     },
     "execution_count": 38,
     "metadata": {},
     "output_type": "execute_result"
    }
   ],
   "source": [
    "from sklearn.model_selection import train_test_split\n",
    "\n",
    "# Разделение данных на тренировочные и тестовые\n",
    "X_train, X_test, y_train, y_test = train_test_split(X, y, test_size=0.33)\n",
    "X_train.shape, X_test.shape"
   ]
  },
  {
   "cell_type": "code",
   "execution_count": 39,
   "metadata": {
    "executionInfo": {
     "elapsed": 976,
     "status": "ok",
     "timestamp": 1617560770366,
     "user": {
      "displayName": "Julia Ponomareva",
      "photoUrl": "https://lh3.googleusercontent.com/a-/AOh14Giimaqepqa7diwYfGdfG3eO8yvg2qDwve3KonGv=s64",
      "userId": "14904333240138417226"
     },
     "user_tz": -300
    },
    "id": "xLsP8t1kxpTM"
   },
   "outputs": [],
   "source": [
    "# тренировка нейронной сети\n",
    "def train_nn(X, y, num_iters):\n",
    "    global weights\n",
    "    for n_iter in range(num_iters):\n",
    "        # проход данных через нейрон\n",
    "        output = run_nn(X)\n",
    "\n",
    "        # вычисление ошибки через обратное распространение back-propagation\n",
    "        error = output - y\n",
    "        \n",
    "        # выполнение корректировки весов\n",
    "        grad = np.dot(X.T, error * sigmoid_deriv(output))\n",
    "\n",
    "        weights -= 0.01 * grad\n",
    "        \n",
    "        \n",
    "        error = np.mean(np.abs(error))\n",
    "        errors.append(error)\n",
    "        \n",
    "        # получение метрики качества\n",
    "        preds = np.argmax(output, axis=1)\n",
    "        labels = np.argmax(y, axis=1)\n",
    "        accuracy = (preds == labels).sum() * 100 / len(labels)\n",
    "        metrics.append(accuracy)\n",
    "\n",
    "# пропускание входных данных через нейрон и получение предсказания\n",
    "# конвертация значений во floats\n",
    "def run_nn(inputs):\n",
    "    global weights\n",
    "    inputs = inputs.astype(float)\n",
    "    output = sigmoid(np.dot(inputs, weights))\n",
    "    return output"
   ]
  },
  {
   "cell_type": "code",
   "execution_count": 40,
   "metadata": {
    "executionInfo": {
     "elapsed": 866,
     "status": "ok",
     "timestamp": 1617560770712,
     "user": {
      "displayName": "Julia Ponomareva",
      "photoUrl": "https://lh3.googleusercontent.com/a-/AOh14Giimaqepqa7diwYfGdfG3eO8yvg2qDwve3KonGv=s64",
      "userId": "14904333240138417226"
     },
     "user_tz": -300
    },
    "id": "ZTz8-KLDxpTM"
   },
   "outputs": [],
   "source": [
    "# генерации случайных чисел для инициализации весов\n",
    "np.random.seed(1)\n",
    "weights = np.random.random((X_train.shape[1], 10))\n",
    "errors = []\n",
    "metrics = []"
   ]
  },
  {
   "cell_type": "code",
   "execution_count": 41,
   "metadata": {
    "colab": {
     "base_uri": "https://localhost:8080/"
    },
    "executionInfo": {
     "elapsed": 1461,
     "status": "ok",
     "timestamp": 1617555011336,
     "user": {
      "displayName": "Julia Ponomareva",
      "photoUrl": "https://lh3.googleusercontent.com/a-/AOh14Giimaqepqa7diwYfGdfG3eO8yvg2qDwve3KonGv=s64",
      "userId": "14904333240138417226"
     },
     "user_tz": -300
    },
    "id": "EzvSfZzzN_yM",
    "outputId": "e2d59668-ceef-461a-8d36-1d1ecef152ca"
   },
   "outputs": [
    {
     "data": {
      "text/plain": [
       "640"
      ]
     },
     "execution_count": 41,
     "metadata": {},
     "output_type": "execute_result"
    }
   ],
   "source": [
    "weights.size"
   ]
  },
  {
   "cell_type": "markdown",
   "metadata": {
    "id": "BtO0umdhxpTM"
   },
   "source": [
    "Пример нашей нейронной сети\n",
    "\n",
    "\n",
    "<img src=\"https://drive.google.com/uc?export=view&id=1WVFYOM5vIl8ooYzyB5kFhBrRLc4su7_K\" width=200px />"
   ]
  },
  {
   "cell_type": "code",
   "execution_count": 42,
   "metadata": {
    "executionInfo": {
     "elapsed": 717,
     "status": "ok",
     "timestamp": 1617560869532,
     "user": {
      "displayName": "Julia Ponomareva",
      "photoUrl": "https://lh3.googleusercontent.com/a-/AOh14Giimaqepqa7diwYfGdfG3eO8yvg2qDwve3KonGv=s64",
      "userId": "14904333240138417226"
     },
     "user_tz": -300
    },
    "id": "elDc_085xpTM"
   },
   "outputs": [],
   "source": [
    "# запуск тренировки нейронной сети \n",
    "epochs = 20\n",
    "train_nn(X_train, y_train, epochs)"
   ]
  },
  {
   "cell_type": "code",
   "execution_count": 43,
   "metadata": {
    "colab": {
     "base_uri": "https://localhost:8080/",
     "height": 139
    },
    "executionInfo": {
     "elapsed": 771,
     "status": "ok",
     "timestamp": 1617560933632,
     "user": {
      "displayName": "Julia Ponomareva",
      "photoUrl": "https://lh3.googleusercontent.com/a-/AOh14Giimaqepqa7diwYfGdfG3eO8yvg2qDwve3KonGv=s64",
      "userId": "14904333240138417226"
     },
     "user_tz": -300
    },
    "id": "EG4m6LJVxpTN",
    "outputId": "406b91b8-0767-43dc-981e-5f6cc53d4a3b"
   },
   "outputs": [
    {
     "name": "stdout",
     "output_type": "stream",
     "text": [
      "Предсказание нейронной сети: \n",
      "2\n"
     ]
    },
    {
     "data": {
      "image/png": "[encoded data removed]",
      "text/plain": [
       "<Figure size 72x72 with 1 Axes>"
      ]
     },
     "metadata": {
      "needs_background": "light"
     },
     "output_type": "display_data"
    }
   ],
   "source": [
    "ind = np.random.randint(0, X_test.shape[0])\n",
    "test_img = X_test[ind]\n",
    "plt.figure(figsize=(1, 1))\n",
    "plt.imshow(test_img.reshape([8,8]))\n",
    "\n",
    "print(\"Предсказание нейронной сети: \")\n",
    "print(np.argmax(run_nn(X_test[ind])))"
   ]
  },
  {
   "cell_type": "code",
   "execution_count": 44,
   "metadata": {
    "colab": {
     "base_uri": "https://localhost:8080/"
    },
    "executionInfo": {
     "elapsed": 722,
     "status": "ok",
     "timestamp": 1617560923902,
     "user": {
      "displayName": "Julia Ponomareva",
      "photoUrl": "https://lh3.googleusercontent.com/a-/AOh14Giimaqepqa7diwYfGdfG3eO8yvg2qDwve3KonGv=s64",
      "userId": "14904333240138417226"
     },
     "user_tz": -300
    },
    "id": "o6fckJQrJHGF",
    "outputId": "aa5220f7-cda7-496e-b879-e93baeb9f6de"
   },
   "outputs": [
    {
     "data": {
      "text/plain": [
       "array([0.00141616, 0.13769793, 0.93216512, 0.02312001, 0.00229921,\n",
       "       0.02337297, 0.00431845, 0.00625284, 0.06007353, 0.01673659])"
      ]
     },
     "execution_count": 44,
     "metadata": {},
     "output_type": "execute_result"
    }
   ],
   "source": [
    "run_nn(X_test[ind])"
   ]
  },
  {
   "cell_type": "code",
   "execution_count": 45,
   "metadata": {
    "colab": {
     "base_uri": "https://localhost:8080/",
     "height": 334
    },
    "executionInfo": {
     "elapsed": 788,
     "status": "ok",
     "timestamp": 1617560944318,
     "user": {
      "displayName": "Julia Ponomareva",
      "photoUrl": "https://lh3.googleusercontent.com/a-/AOh14Giimaqepqa7diwYfGdfG3eO8yvg2qDwve3KonGv=s64",
      "userId": "14904333240138417226"
     },
     "user_tz": -300
    },
    "id": "9F8GM5tPxpTN",
    "outputId": "02b37295-8c0c-4e2d-8abe-6c4606f20ead"
   },
   "outputs": [
    {
     "data": {
      "image/png": "[encoded data removed]",
      "text/plain": [
       "<Figure size 1152x360 with 1 Axes>"
      ]
     },
     "metadata": {
      "needs_background": "light"
     },
     "output_type": "display_data"
    }
   ],
   "source": [
    "plt.figure(figsize=(16, 5))\n",
    "plt.plot(errors)\n",
    "plt.xlabel('Количество итераций')\n",
    "plt.ylabel('Ошибка')\n",
    "plt.show()"
   ]
  },
  {
   "cell_type": "code",
   "execution_count": 46,
   "metadata": {
    "colab": {
     "base_uri": "https://localhost:8080/",
     "height": 334
    },
    "executionInfo": {
     "elapsed": 1712,
     "status": "ok",
     "timestamp": 1617555013823,
     "user": {
      "displayName": "Julia Ponomareva",
      "photoUrl": "https://lh3.googleusercontent.com/a-/AOh14Giimaqepqa7diwYfGdfG3eO8yvg2qDwve3KonGv=s64",
      "userId": "14904333240138417226"
     },
     "user_tz": -300
    },
    "id": "cqpQ4QiuxpTO",
    "outputId": "26c8c0d5-0382-40e0-99f3-22214824a2aa"
   },
   "outputs": [
    {
     "data": {
      "image/png": "[encoded data removed]",
      "text/plain": [
       "<Figure size 1152x360 with 1 Axes>"
      ]
     },
     "metadata": {
      "needs_background": "light"
     },
     "output_type": "display_data"
    }
   ],
   "source": [
    "plt.figure(figsize=(16, 5))\n",
    "plt.plot(metrics)\n",
    "plt.xlabel('Количество итераций')\n",
    "plt.ylabel('Accuracy')\n",
    "plt.show()"
   ]
  },
  {
   "cell_type": "code",
   "execution_count": 47,
   "metadata": {
    "colab": {
     "base_uri": "https://localhost:8080/"
    },
    "executionInfo": {
     "elapsed": 682,
     "status": "ok",
     "timestamp": 1617555014139,
     "user": {
      "displayName": "Julia Ponomareva",
      "photoUrl": "https://lh3.googleusercontent.com/a-/AOh14Giimaqepqa7diwYfGdfG3eO8yvg2qDwve3KonGv=s64",
      "userId": "14904333240138417226"
     },
     "user_tz": -300
    },
    "id": "Fqz-vAKmxpTO",
    "outputId": "e293ff6a-30f4-416d-a52a-3148bad0d504"
   },
   "outputs": [
    {
     "name": "stdout",
     "output_type": "stream",
     "text": [
      "Accuracy на тесте 88.05%\n"
     ]
    }
   ],
   "source": [
    "test_preds = np.argmax(run_nn(X_test), axis=1)\n",
    "test_labels = np.argmax(y_test, axis=1)\n",
    "\n",
    "test_accuracy = (test_preds == test_labels).sum() * 100 / len(test_labels)\n",
    "print(f'Accuracy на тесте {test_accuracy:.2f}%')"
   ]
  },
  {
   "cell_type": "markdown",
   "metadata": {
    "id": "4j0g47JcxpTO"
   },
   "source": [
    "## Пример построения  двухслойной нейронной сети на numpy <a class='anchor' id='example2'>"
   ]
  },
  {
   "cell_type": "code",
   "execution_count": 48,
   "metadata": {
    "executionInfo": {
     "elapsed": 762,
     "status": "ok",
     "timestamp": 1617561016029,
     "user": {
      "displayName": "Julia Ponomareva",
      "photoUrl": "https://lh3.googleusercontent.com/a-/AOh14Giimaqepqa7diwYfGdfG3eO8yvg2qDwve3KonGv=s64",
      "userId": "14904333240138417226"
     },
     "user_tz": -300
    },
    "id": "0eNNvaYgxpTP"
   },
   "outputs": [],
   "source": [
    "import numpy as np\n",
    "import pandas as pd\n",
    "import seaborn as sns\n",
    "import matplotlib.pyplot as plt\n",
    "\n",
    "import warnings\n",
    "warnings.filterwarnings('ignore')\n",
    "\n",
    "from sklearn.model_selection import train_test_split"
   ]
  },
  {
   "cell_type": "code",
   "execution_count": 65,
   "metadata": {
    "executionInfo": {
     "elapsed": 751,
     "status": "ok",
     "timestamp": 1617561191313,
     "user": {
      "displayName": "Julia Ponomareva",
      "photoUrl": "https://lh3.googleusercontent.com/a-/AOh14Giimaqepqa7diwYfGdfG3eO8yvg2qDwve3KonGv=s64",
      "userId": "14904333240138417226"
     },
     "user_tz": -300
    },
    "id": "RIeYUSovxpTP"
   },
   "outputs": [],
   "source": [
    "# Обучение нейронной сети\n",
    "\n",
    "# определим число нейронов скрытого слоя\n",
    "neuron_numb = 15\n",
    "\n",
    "# присваивание случайных весов\n",
    "np.random.seed(1)\n",
    "w0 = np.random.random((64, neuron_numb))  # для входного слоя    - 64 входа, neuron_numb выходов\n",
    "w1 = np.random.random((neuron_numb, 10))  # для внутреннего слоя - neuron_numb входов, 10 выходов\n",
    "\n",
    "# скорость обучения (learning rate)\n",
    "learning_rate = 0.1\n",
    "\n",
    "# количество итераций\n",
    "num_epochs = 1000\n",
    "\n",
    "# массив для ошибок, чтобы потом построить график\n",
    "errors = []\n",
    "metrics = []\n",
    "\n",
    "# процесс обучения\n",
    "for i in range(num_epochs):\n",
    "\n",
    "    # прямое распространение(feed forward)\n",
    "    layer0 = X_train\n",
    "    layer1 = sigmoid(np.dot(layer0, w0))\n",
    "    layer2 = sigmoid(np.dot(layer1, w1))\n",
    "\n",
    "    # обратное распространение (back propagation)\n",
    "    #  с использованием градиентного спуска\n",
    "    layer2_error = layer2 - y_train  # производная функции потерь\n",
    "    layer2_grad = layer2_error * sigmoid_deriv(layer2)\n",
    "    \n",
    "    layer1_error = layer2_grad.dot(w1.T)\n",
    "    layer1_grad = layer1_error * sigmoid_deriv(layer1)\n",
    "    \n",
    "    w1 -= layer1.T.dot(layer2_grad) * learning_rate\n",
    "    w0 -= layer0.T.dot(layer1_grad) * learning_rate\n",
    "    \n",
    "    # ошибка модели\n",
    "    error = np.mean(np.abs(layer2_error))\n",
    "    errors.append(error)\n",
    "    \n",
    "    # метрики качества\n",
    "    preds = np.argmax(layer2, axis=1)\n",
    "    labels = np.argmax(y_train, axis=1)\n",
    "    accuracy = (preds == labels).sum() * 100 / len(labels)\n",
    "    metrics.append(accuracy)"
   ]
  },
  {
   "cell_type": "code",
   "execution_count": 66,
   "metadata": {
    "colab": {
     "base_uri": "https://localhost:8080/",
     "height": 651
    },
    "executionInfo": {
     "elapsed": 1612,
     "status": "ok",
     "timestamp": 1617561198056,
     "user": {
      "displayName": "Julia Ponomareva",
      "photoUrl": "https://lh3.googleusercontent.com/a-/AOh14Giimaqepqa7diwYfGdfG3eO8yvg2qDwve3KonGv=s64",
      "userId": "14904333240138417226"
     },
     "user_tz": -300
    },
    "id": "-RGS2X4FxpTQ",
    "outputId": "bf97b3b9-6f92-4d75-b0b7-ce2306074039"
   },
   "outputs": [
    {
     "data": {
      "image/png": "[encoded data removed]",
      "text/plain": [
       "<Figure size 1152x360 with 1 Axes>"
      ]
     },
     "metadata": {
      "needs_background": "light"
     },
     "output_type": "display_data"
    },
    {
     "data": {
      "image/png": "[encoded data removed]",
      "text/plain": [
       "<Figure size 1152x360 with 1 Axes>"
      ]
     },
     "metadata": {
      "needs_background": "light"
     },
     "output_type": "display_data"
    }
   ],
   "source": [
    "# Демонстрация полученных результатов\n",
    "# Диаграмма точности в зависимости от обучения\n",
    "plt.figure(figsize=(16, 5))\n",
    "plt.plot(errors)\n",
    "plt.xlabel('Обучение')\n",
    "plt.ylabel('Ошибка')\n",
    "plt.show()\n",
    "\n",
    "plt.figure(figsize=(16, 5))\n",
    "plt.plot(metrics)\n",
    "plt.xlabel('Количество итераций')\n",
    "plt.ylabel('Accuracy')\n",
    "plt.show()"
   ]
  },
  {
   "cell_type": "code",
   "execution_count": 61,
   "metadata": {
    "colab": {
     "base_uri": "https://localhost:8080/"
    },
    "executionInfo": {
     "elapsed": 739,
     "status": "ok",
     "timestamp": 1617561266107,
     "user": {
      "displayName": "Julia Ponomareva",
      "photoUrl": "https://lh3.googleusercontent.com/a-/AOh14Giimaqepqa7diwYfGdfG3eO8yvg2qDwve3KonGv=s64",
      "userId": "14904333240138417226"
     },
     "user_tz": -300
    },
    "id": "fQ0KZZepPxh2",
    "outputId": "24284818-e408-4b0f-d547-1bf454534c45"
   },
   "outputs": [
    {
     "data": {
      "text/plain": [
       "array([[0., 0., 1., 0., 0., 0., 0., 0., 0., 0.],\n",
       "       [0., 0., 0., 1., 0., 0., 0., 0., 0., 0.],\n",
       "       [0., 0., 0., 0., 1., 0., 0., 0., 0., 0.],\n",
       "       [0., 0., 1., 0., 0., 0., 0., 0., 0., 0.],\n",
       "       [0., 0., 0., 0., 1., 0., 0., 0., 0., 0.],\n",
       "       [0., 0., 0., 1., 0., 0., 0., 0., 0., 0.],\n",
       "       [0., 0., 0., 0., 1., 0., 0., 0., 0., 0.],\n",
       "       [1., 0., 0., 0., 0., 0., 0., 0., 0., 0.],\n",
       "       [0., 1., 0., 0., 0., 0., 0., 0., 0., 0.],\n",
       "       [0., 0., 0., 0., 0., 0., 0., 0., 0., 1.]])"
      ]
     },
     "execution_count": 61,
     "metadata": {},
     "output_type": "execute_result"
    }
   ],
   "source": [
    "y_train[:10]"
   ]
  },
  {
   "cell_type": "code",
   "execution_count": 123,
   "metadata": {
    "colab": {
     "base_uri": "https://localhost:8080/",
     "height": 352
    },
    "executionInfo": {
     "elapsed": 877,
     "status": "ok",
     "timestamp": 1617561306831,
     "user": {
      "displayName": "Julia Ponomareva",
      "photoUrl": "https://lh3.googleusercontent.com/a-/AOh14Giimaqepqa7diwYfGdfG3eO8yvg2qDwve3KonGv=s64",
      "userId": "14904333240138417226"
     },
     "user_tz": -300
    },
    "id": "buD3QL6dLhg8",
    "outputId": "4375eca2-1dbf-418c-8c0a-b9050ee204c4"
   },
   "outputs": [
    {
     "data": {
      "image/png": "[encoded data removed]",
      "text/plain": [
       "<Figure size 1152x360 with 1 Axes>"
      ]
     },
     "metadata": {
      "needs_background": "light"
     },
     "output_type": "display_data"
    }
   ],
   "source": [
    "N = 10\n",
    "label = 1\n",
    "plt.figure(figsize=(16, 5))\n",
    "plt.plot(layer2[:N, label], 'r', label='y pred')\n",
    "plt.plot(y_train[:N, label],'g', label='y train')\n",
    "plt.xticks(np.arange(N))\n",
    "plt.xlabel('№ примера')\n",
    "plt.ylabel('выход сети и целевой')\n",
    "plt.legend()\n",
    "plt.show()\n",
    "        \n",
    "# print(f\"accuracy на обучении {accuracy:.2f}%\")"
   ]
  },
  {
   "cell_type": "code",
   "execution_count": 124,
   "metadata": {
    "colab": {
     "base_uri": "https://localhost:8080/",
     "height": 352
    },
    "executionInfo": {
     "elapsed": 935,
     "status": "ok",
     "timestamp": 1617561338247,
     "user": {
      "displayName": "Julia Ponomareva",
      "photoUrl": "https://lh3.googleusercontent.com/a-/AOh14Giimaqepqa7diwYfGdfG3eO8yvg2qDwve3KonGv=s64",
      "userId": "14904333240138417226"
     },
     "user_tz": -300
    },
    "id": "lRmoi3hzxpTQ",
    "outputId": "d3a0f2ad-cf0b-49fd-dfff-694e8d1f74f4"
   },
   "outputs": [
    {
     "data": {
      "image/png": "[encoded data removed]",
      "text/plain": [
       "<Figure size 1152x360 with 1 Axes>"
      ]
     },
     "metadata": {
      "needs_background": "light"
     },
     "output_type": "display_data"
    },
    {
     "name": "stdout",
     "output_type": "stream",
     "text": [
      "accuracy на тесте 57.41%\n"
     ]
    }
   ],
   "source": [
    "# прямое распространение(feed forward)\n",
    "layer0_test = X_test\n",
    "layer1_test = sigmoid(np.dot(layer0_test, w0))\n",
    "layer2_test = sigmoid(np.dot(layer1_test, w1))\n",
    "    \n",
    "    \n",
    "N = 20\n",
    "plt.figure(figsize=(16, 5))\n",
    "plt.plot(layer2_test[:N, 1], 'r', label='y pred')\n",
    "plt.plot(y_test[:N, 1], 'g', label='y test')\n",
    "plt.xticks(np.arange(N))\n",
    "plt.xlabel('№ примера')\n",
    "plt.ylabel('выход сети и целевой')\n",
    "plt.legend()\n",
    "plt.show()\n",
    "\n",
    "# метрика модели\n",
    "preds_test = np.argmax(layer2_test, axis=1)\n",
    "labels_test = np.argmax(y_test, axis=1)\n",
    "accuracy_test = (preds_test == labels_test).sum() * 100 / len(labels_test)\n",
    "\n",
    "print(f\"accuracy на тесте {accuracy_test:.2f}%\")"
   ]
  },
  {
   "cell_type": "markdown",
   "metadata": {
    "id": "-s2i6Hz1xpTR"
   },
   "source": [
    "В этом уроке мы с вами рассматривали, как сделать простые нейронные сети без использования специальных фреймворков и библиотек для этого. В следующих уроках мы с вами познакомимся, как делать нейронные сети с помощью Keras и TensorFlow."
   ]
  },
  {
   "cell_type": "markdown",
   "metadata": {
    "id": "5S8aG2KqxpTR"
   },
   "source": [
    "## Домашнее задание <a class='anchor' id='hw'>\n",
    "\n",
    "1. Попробуйте видоизменить параметры разобранной на уроке двухслойной нейронной сети таким образом, чтобы улучшить ее точность.\n",
    "2. Проведите анализ — что приводит к ухудшению точности нейронной сети?\n",
    "3. Что приводит к увеличению ее точности?"
   ]
  },
  {
   "cell_type": "markdown",
   "metadata": {
    "id": "TWX2iLhFxpTS"
   },
   "source": [
    "## Дополнительные материалы\n",
    "\n",
    "1. [Machine Learning News and Articles](https://medium.com/topic/machine-learning)\n",
    "2. [Neural Net from scratch](https://towardsai.net/p/machine-learning/nothing-but-numpy-understanding-creating-neural-networks-with-computational-graphs-from-scratch-6299901091b0)\n",
    "3. [Let’s code a Neural Network in plain NumPy](https://towardsdatascience.com/lets-code-a-neural-network-in-plain-numpy-ae7e74410795)"
   ]
  },
  {
   "cell_type": "markdown",
   "metadata": {
    "id": "IADnOuFBxpTS"
   },
   "source": [
    "## Используемая литература \n",
    "\n",
    "Для подготовки данного методического пособия были использованы следующие ресурсы:\n",
    "<ol>\n",
    "    <li>Глубокое обучение — Николенко С. И., Кадурин 2018</li>\n",
    "    <li>Шакла Н. — Машинное обучение и TensorFlow 2019</li>\n",
    "    <li>Asifullah Khan, Anabia Sohail, Umme Zahoora, Aqsa Saeed Qureshi - A Survey of the Recent Architectures of Deep Convolutional Neural Networks 2019</li>\n",
    "    <li>A direct adaptive method for faster backpropagation learning: the RPROP algorithm - Neural Networks, 1993</li>\n",
    "    <li>Википедия</li>\n",
    "    \n",
    "</ol>"
   ]
  },
  {
   "cell_type": "markdown",
   "metadata": {
    "id": "cVpwCI_WLhg-"
   },
   "source": [
    "## Определения <a class='anchor' id='def'>\n",
    "\n",
    "*Общее*\n",
    "\n",
    "**Узкий (слабый) искусственный интеллект** — это ИИ, который запрограммирован на выполнение одной задачи — будь то мониторинг погоды, игра в шахматы или анализ данных для написания журналистских репортажей.\n",
    "\n",
    "**Общий (сильный) искусственный интеллект** — этот ИИ схож с человеческим интеллектом, иными словами, он может успешно выполнять любые умственные задачи, которые под силу людям.\n",
    "\n",
    "**Компьютерное зрение (Computer Vision, CV)** — это область искусственного интеллекта, связанная с анализом изображений и видео.\n",
    "\n",
    "**Обработка естественного языка (Natural Language Processing, NLP)** — это область искусственного интеллекта, связанная с использованием компьютеров для анализа естественных языков, к которой относятся такие дисциплины, как распознавание и обработка речи, выделение смысловых отношений, категоризация документов, а также аннотирование текста.\n",
    "\n",
    "___________\n",
    "\n",
    "*Обучение нейронной сети*\n",
    "\n",
    "**Искусственный нейрон** — узел искусственной нейронной сети, являющийся упрощённой моделью естественного нейрона.\n",
    "\n",
    "**Искусственнная нейронная сеть (ИНС)** — это программная реализация математической модели биологической нейронной сети.\n",
    "\n",
    "**Метод обратного распространения ошибки** — метод вычисления градиента, который используется при обновлении весов нейронной сети.\n",
    "\n",
    "**Градиентный спуск** — метод нахождения локального экстремума функции (минимума или максимума) с помощью движения вдоль градиента.\n",
    "\n",
    "**Функция активации нейрона** — функция, определяющая выходной сигнал, который определяется входным сигналом или набором входных сигналов. "
   ]
  },
  {
   "cell_type": "markdown",
   "metadata": {},
   "source": [
    "<a id='hw_done'></a>\n",
    "# Домашнее задание"
   ]
  },
  {
   "cell_type": "markdown",
   "metadata": {},
   "source": [
    "Покрутив гиперпараметры, пришел к выводу что попросту итерраций мало| learning_rate не достаточен, но главное - не хватает \"извилин\" в скрытом слое, чтобы учесть все зависимости.\n",
    "Соответственно, если \"усугубить\" - обучаться еще меньше, меньшими шагами, убавить кол-во нейронов - получим точность еще хуже. Впрочем, слишком много нейронов скрытого слоя, либо переобучение тоже могут снизить качество. Если настроить более точно - улучшим результат. Для подбора оптимальных значений использую кроссвалидацию."
   ]
  },
  {
   "cell_type": "code",
   "execution_count": 177,
   "metadata": {},
   "outputs": [],
   "source": [
    "neuron_numbs = (3, 5,  7,  10, 20, 40, 50, 60 )\n",
    "learning_rates = (1, 0.1, 0.05, 0.01, 0.001)\n",
    "iters = (100, 200, 500, 1000, 2000, 5000)\n"
   ]
  },
  {
   "cell_type": "code",
   "execution_count": 178,
   "metadata": {},
   "outputs": [
    {
     "name": "stdout",
     "output_type": "stream",
     "text": [
      "+++ accuracy_test 15.99%|| accuracy_train 16.21%|| 3 нейронов || 1 learning rates || 100 iters \n",
      "+++ accuracy_test 22.39%|| accuracy_train 24.36%|| 3 нейронов || 1 learning rates || 200 iters \n",
      "+++ accuracy_test 23.91%|| accuracy_train 13.22%|| 3 нейронов || 1 learning rates || 500 iters \n",
      "--- accuracy_test 11.11%|| accuracy_train 19.62%|| 3 нейронов || 1 learning rates || 1000 iters \n",
      "--- accuracy_test 11.78%|| accuracy_train 12.47%|| 3 нейронов || 1 learning rates || 2000 iters \n",
      "--- accuracy_test 21.89%|| accuracy_train 12.55%|| 3 нейронов || 1 learning rates || 5000 iters \n",
      "+++ accuracy_test 25.25%|| accuracy_train 28.84%|| 3 нейронов || 0.1 learning rates || 100 iters \n",
      "+++ accuracy_test 31.31%|| accuracy_train 32.25%|| 3 нейронов || 0.1 learning rates || 200 iters \n",
      "--- accuracy_test 18.52%|| accuracy_train 29.51%|| 3 нейронов || 0.1 learning rates || 500 iters \n",
      "--- accuracy_test 20.71%|| accuracy_train 27.27%|| 3 нейронов || 0.1 learning rates || 1000 iters \n",
      "--- accuracy_test 24.58%|| accuracy_train 27.10%|| 3 нейронов || 0.1 learning rates || 2000 iters \n",
      "--- accuracy_test 19.02%|| accuracy_train 29.09%|| 3 нейронов || 0.1 learning rates || 5000 iters \n",
      "--- accuracy_test 30.47%|| accuracy_train 28.76%|| 3 нейронов || 0.05 learning rates || 100 iters \n",
      "--- accuracy_test 25.25%|| accuracy_train 30.92%|| 3 нейронов || 0.05 learning rates || 200 iters \n",
      "+++ accuracy_test 32.49%|| accuracy_train 34.16%|| 3 нейронов || 0.05 learning rates || 500 iters \n",
      "+++ accuracy_test 36.53%|| accuracy_train 36.24%|| 3 нейронов || 0.05 learning rates || 1000 iters \n",
      "+++ accuracy_test 37.37%|| accuracy_train 37.82%|| 3 нейронов || 0.05 learning rates || 2000 iters \n",
      "--- accuracy_test 36.53%|| accuracy_train 35.00%|| 3 нейронов || 0.05 learning rates || 5000 iters \n",
      "--- accuracy_test 33.67%|| accuracy_train 39.24%|| 3 нейронов || 0.01 learning rates || 100 iters \n",
      "--- accuracy_test 31.82%|| accuracy_train 37.24%|| 3 нейронов || 0.01 learning rates || 200 iters \n",
      "--- accuracy_test 33.50%|| accuracy_train 37.91%|| 3 нейронов || 0.01 learning rates || 500 iters \n",
      "+++ accuracy_test 37.37%|| accuracy_train 38.99%|| 3 нейронов || 0.01 learning rates || 1000 iters \n",
      "+++ accuracy_test 37.54%|| accuracy_train 39.15%|| 3 нейронов || 0.01 learning rates || 2000 iters \n",
      "+++ accuracy_test 38.38%|| accuracy_train 37.66%|| 3 нейронов || 0.01 learning rates || 5000 iters \n",
      "--- accuracy_test 9.09%|| accuracy_train 10.56%|| 3 нейронов || 0.001 learning rates || 100 iters \n",
      "--- accuracy_test 9.09%|| accuracy_train 10.56%|| 3 нейронов || 0.001 learning rates || 200 iters \n",
      "--- accuracy_test 17.51%|| accuracy_train 20.78%|| 3 нейронов || 0.001 learning rates || 500 iters \n",
      "--- accuracy_test 25.93%|| accuracy_train 29.76%|| 3 нейронов || 0.001 learning rates || 1000 iters \n",
      "--- accuracy_test 30.30%|| accuracy_train 33.67%|| 3 нейронов || 0.001 learning rates || 2000 iters \n",
      "--- accuracy_test 37.04%|| accuracy_train 38.65%|| 3 нейронов || 0.001 learning rates || 5000 iters \n",
      "--- accuracy_test 8.92%|| accuracy_train 10.47%|| 5 нейронов || 1 learning rates || 100 iters \n",
      "--- accuracy_test 24.75%|| accuracy_train 10.56%|| 5 нейронов || 1 learning rates || 200 iters \n",
      "--- accuracy_test 30.64%|| accuracy_train 35.83%|| 5 нейронов || 1 learning rates || 500 iters \n",
      "--- accuracy_test 35.19%|| accuracy_train 24.27%|| 5 нейронов || 1 learning rates || 1000 iters \n",
      "--- accuracy_test 30.81%|| accuracy_train 32.83%|| 5 нейронов || 1 learning rates || 2000 iters \n",
      "+++ accuracy_test 39.06%|| accuracy_train 35.74%|| 5 нейронов || 1 learning rates || 5000 iters \n",
      "+++ accuracy_test 49.66%|| accuracy_train 52.45%|| 5 нейронов || 0.1 learning rates || 100 iters \n",
      "+++ accuracy_test 58.08%|| accuracy_train 48.13%|| 5 нейронов || 0.1 learning rates || 200 iters \n",
      "--- accuracy_test 57.07%|| accuracy_train 56.19%|| 5 нейронов || 0.1 learning rates || 500 iters \n",
      "--- accuracy_test 57.41%|| accuracy_train 59.60%|| 5 нейронов || 0.1 learning rates || 1000 iters \n",
      "--- accuracy_test 54.21%|| accuracy_train 61.26%|| 5 нейронов || 0.1 learning rates || 2000 iters \n",
      "--- accuracy_test 54.38%|| accuracy_train 61.93%|| 5 нейронов || 0.1 learning rates || 5000 iters \n",
      "--- accuracy_test 54.38%|| accuracy_train 57.86%|| 5 нейронов || 0.05 learning rates || 100 iters \n",
      "+++ accuracy_test 64.81%|| accuracy_train 63.01%|| 5 нейронов || 0.05 learning rates || 200 iters \n",
      "+++ accuracy_test 71.04%|| accuracy_train 72.98%|| 5 нейронов || 0.05 learning rates || 500 iters \n",
      "+++ accuracy_test 71.21%|| accuracy_train 72.40%|| 5 нейронов || 0.05 learning rates || 1000 iters \n",
      "--- accuracy_test 66.50%|| accuracy_train 67.41%|| 5 нейронов || 0.05 learning rates || 2000 iters \n",
      "--- accuracy_test 62.46%|| accuracy_train 63.34%|| 5 нейронов || 0.05 learning rates || 5000 iters \n",
      "--- accuracy_test 48.48%|| accuracy_train 50.21%|| 5 нейронов || 0.01 learning rates || 100 iters \n",
      "--- accuracy_test 50.34%|| accuracy_train 50.96%|| 5 нейронов || 0.01 learning rates || 200 iters \n",
      "--- accuracy_test 52.02%|| accuracy_train 54.11%|| 5 нейронов || 0.01 learning rates || 500 iters \n",
      "--- accuracy_test 58.59%|| accuracy_train 56.61%|| 5 нейронов || 0.01 learning rates || 1000 iters \n",
      "--- accuracy_test 67.85%|| accuracy_train 70.82%|| 5 нейронов || 0.01 learning rates || 2000 iters \n",
      "--- accuracy_test 69.02%|| accuracy_train 72.07%|| 5 нейронов || 0.01 learning rates || 5000 iters \n",
      "--- accuracy_test 9.26%|| accuracy_train 10.56%|| 5 нейронов || 0.001 learning rates || 100 iters \n",
      "--- accuracy_test 9.60%|| accuracy_train 10.97%|| 5 нейронов || 0.001 learning rates || 200 iters \n",
      "--- accuracy_test 27.78%|| accuracy_train 31.26%|| 5 нейронов || 0.001 learning rates || 500 iters \n",
      "--- accuracy_test 51.35%|| accuracy_train 50.96%|| 5 нейронов || 0.001 learning rates || 1000 iters \n",
      "--- accuracy_test 45.29%|| accuracy_train 48.96%|| 5 нейронов || 0.001 learning rates || 2000 iters \n",
      "--- accuracy_test 50.51%|| accuracy_train 55.28%|| 5 нейронов || 0.001 learning rates || 5000 iters \n",
      "--- accuracy_test 19.70%|| accuracy_train 13.13%|| 7 нейронов || 1 learning rates || 100 iters \n",
      "--- accuracy_test 52.36%|| accuracy_train 52.29%|| 7 нейронов || 1 learning rates || 200 iters \n",
      "--- accuracy_test 60.61%|| accuracy_train 59.85%|| 7 нейронов || 1 learning rates || 500 iters \n",
      "--- accuracy_test 47.81%|| accuracy_train 51.37%|| 7 нейронов || 1 learning rates || 1000 iters \n",
      "--- accuracy_test 47.47%|| accuracy_train 55.28%|| 7 нейронов || 1 learning rates || 2000 iters \n",
      "--- accuracy_test 62.79%|| accuracy_train 61.68%|| 7 нейронов || 1 learning rates || 5000 iters \n",
      "--- accuracy_test 42.93%|| accuracy_train 58.02%|| 7 нейронов || 0.1 learning rates || 100 iters \n",
      "--- accuracy_test 69.87%|| accuracy_train 73.23%|| 7 нейронов || 0.1 learning rates || 200 iters \n",
      "+++ accuracy_test 78.96%|| accuracy_train 83.37%|| 7 нейронов || 0.1 learning rates || 500 iters \n",
      "+++ accuracy_test 79.97%|| accuracy_train 82.63%|| 7 нейронов || 0.1 learning rates || 1000 iters \n",
      "+++ accuracy_test 84.85%|| accuracy_train 83.13%|| 7 нейронов || 0.1 learning rates || 2000 iters \n",
      "--- accuracy_test 81.82%|| accuracy_train 82.63%|| 7 нейронов || 0.1 learning rates || 5000 iters \n",
      "--- accuracy_test 45.96%|| accuracy_train 45.55%|| 7 нейронов || 0.05 learning rates || 100 iters \n",
      "--- accuracy_test 66.50%|| accuracy_train 66.58%|| 7 нейронов || 0.05 learning rates || 200 iters \n",
      "--- accuracy_test 73.57%|| accuracy_train 76.89%|| 7 нейронов || 0.05 learning rates || 500 iters \n",
      "--- accuracy_test 78.96%|| accuracy_train 80.71%|| 7 нейронов || 0.05 learning rates || 1000 iters \n",
      "--- accuracy_test 79.63%|| accuracy_train 81.63%|| 7 нейронов || 0.05 learning rates || 2000 iters \n",
      "--- accuracy_test 77.44%|| accuracy_train 81.55%|| 7 нейронов || 0.05 learning rates || 5000 iters \n",
      "--- accuracy_test 49.49%|| accuracy_train 50.37%|| 7 нейронов || 0.01 learning rates || 100 iters \n",
      "--- accuracy_test 59.09%|| accuracy_train 61.18%|| 7 нейронов || 0.01 learning rates || 200 iters \n",
      "--- accuracy_test 65.66%|| accuracy_train 68.08%|| 7 нейронов || 0.01 learning rates || 500 iters \n",
      "--- accuracy_test 73.57%|| accuracy_train 77.56%|| 7 нейронов || 0.01 learning rates || 1000 iters \n",
      "--- accuracy_test 76.77%|| accuracy_train 81.30%|| 7 нейронов || 0.01 learning rates || 2000 iters \n"
     ]
    },
    {
     "name": "stdout",
     "output_type": "stream",
     "text": [
      "--- accuracy_test 68.52%|| accuracy_train 77.97%|| 7 нейронов || 0.01 learning rates || 5000 iters \n",
      "--- accuracy_test 11.11%|| accuracy_train 12.14%|| 7 нейронов || 0.001 learning rates || 100 iters \n",
      "--- accuracy_test 15.66%|| accuracy_train 17.21%|| 7 нейронов || 0.001 learning rates || 200 iters \n",
      "--- accuracy_test 39.73%|| accuracy_train 42.14%|| 7 нейронов || 0.001 learning rates || 500 iters \n",
      "--- accuracy_test 60.77%|| accuracy_train 61.76%|| 7 нейронов || 0.001 learning rates || 1000 iters \n",
      "--- accuracy_test 58.92%|| accuracy_train 60.93%|| 7 нейронов || 0.001 learning rates || 2000 iters \n",
      "--- accuracy_test 64.65%|| accuracy_train 64.92%|| 7 нейронов || 0.001 learning rates || 5000 iters \n",
      "--- accuracy_test 40.24%|| accuracy_train 34.00%|| 10 нейронов || 1 learning rates || 100 iters \n",
      "--- accuracy_test 65.99%|| accuracy_train 67.33%|| 10 нейронов || 1 learning rates || 200 iters \n",
      "--- accuracy_test 73.91%|| accuracy_train 80.30%|| 10 нейронов || 1 learning rates || 500 iters \n",
      "--- accuracy_test 80.13%|| accuracy_train 83.54%|| 10 нейронов || 1 learning rates || 1000 iters \n",
      "--- accuracy_test 71.04%|| accuracy_train 73.40%|| 10 нейронов || 1 learning rates || 2000 iters \n",
      "--- accuracy_test 70.37%|| accuracy_train 75.81%|| 10 нейронов || 1 learning rates || 5000 iters \n",
      "--- accuracy_test 68.01%|| accuracy_train 66.92%|| 10 нейронов || 0.1 learning rates || 100 iters \n",
      "--- accuracy_test 78.79%|| accuracy_train 79.22%|| 10 нейронов || 0.1 learning rates || 200 iters \n",
      "--- accuracy_test 84.51%|| accuracy_train 85.62%|| 10 нейронов || 0.1 learning rates || 500 iters \n",
      "+++ accuracy_test 87.71%|| accuracy_train 90.77%|| 10 нейронов || 0.1 learning rates || 1000 iters \n",
      "--- accuracy_test 87.54%|| accuracy_train 91.27%|| 10 нейронов || 0.1 learning rates || 2000 iters \n",
      "+++ accuracy_test 89.39%|| accuracy_train 90.52%|| 10 нейронов || 0.1 learning rates || 5000 iters \n",
      "--- accuracy_test 65.15%|| accuracy_train 68.41%|| 10 нейронов || 0.05 learning rates || 100 iters \n",
      "--- accuracy_test 78.79%|| accuracy_train 82.21%|| 10 нейронов || 0.05 learning rates || 200 iters \n",
      "--- accuracy_test 85.19%|| accuracy_train 89.61%|| 10 нейронов || 0.05 learning rates || 500 iters \n",
      "--- accuracy_test 84.01%|| accuracy_train 89.53%|| 10 нейронов || 0.05 learning rates || 1000 iters \n",
      "--- accuracy_test 83.16%|| accuracy_train 86.62%|| 10 нейронов || 0.05 learning rates || 2000 iters \n",
      "--- accuracy_test 88.22%|| accuracy_train 90.69%|| 10 нейронов || 0.05 learning rates || 5000 iters \n",
      "--- accuracy_test 76.60%|| accuracy_train 75.81%|| 10 нейронов || 0.01 learning rates || 100 iters \n",
      "--- accuracy_test 81.14%|| accuracy_train 79.63%|| 10 нейронов || 0.01 learning rates || 200 iters \n",
      "--- accuracy_test 83.67%|| accuracy_train 83.71%|| 10 нейронов || 0.01 learning rates || 500 iters \n",
      "--- accuracy_test 86.70%|| accuracy_train 88.36%|| 10 нейронов || 0.01 learning rates || 1000 iters \n",
      "--- accuracy_test 88.22%|| accuracy_train 91.02%|| 10 нейронов || 0.01 learning rates || 2000 iters \n",
      "--- accuracy_test 87.88%|| accuracy_train 90.44%|| 10 нейронов || 0.01 learning rates || 5000 iters \n",
      "--- accuracy_test 14.65%|| accuracy_train 16.71%|| 10 нейронов || 0.001 learning rates || 100 iters \n",
      "--- accuracy_test 22.73%|| accuracy_train 25.35%|| 10 нейронов || 0.001 learning rates || 200 iters \n",
      "--- accuracy_test 56.73%|| accuracy_train 55.20%|| 10 нейронов || 0.001 learning rates || 500 iters \n",
      "--- accuracy_test 69.70%|| accuracy_train 71.40%|| 10 нейронов || 0.001 learning rates || 1000 iters \n",
      "--- accuracy_test 76.26%|| accuracy_train 76.89%|| 10 нейронов || 0.001 learning rates || 2000 iters \n",
      "--- accuracy_test 81.99%|| accuracy_train 82.79%|| 10 нейронов || 0.001 learning rates || 5000 iters \n",
      "--- accuracy_test 60.27%|| accuracy_train 61.01%|| 20 нейронов || 1 learning rates || 100 iters \n",
      "--- accuracy_test 76.60%|| accuracy_train 73.65%|| 20 нейронов || 1 learning rates || 200 iters \n",
      "--- accuracy_test 81.14%|| accuracy_train 81.80%|| 20 нейронов || 1 learning rates || 500 iters \n",
      "--- accuracy_test 86.53%|| accuracy_train 89.03%|| 20 нейронов || 1 learning rates || 1000 iters \n",
      "--- accuracy_test 87.54%|| accuracy_train 89.86%|| 20 нейронов || 1 learning rates || 2000 iters \n",
      "--- accuracy_test 88.38%|| accuracy_train 93.68%|| 20 нейронов || 1 learning rates || 5000 iters \n",
      "--- accuracy_test 79.12%|| accuracy_train 70.07%|| 20 нейронов || 0.1 learning rates || 100 iters \n",
      "--- accuracy_test 85.86%|| accuracy_train 87.53%|| 20 нейронов || 0.1 learning rates || 200 iters \n",
      "+++ accuracy_test 90.91%|| accuracy_train 94.43%|| 20 нейронов || 0.1 learning rates || 500 iters \n",
      "--- accuracy_test 90.74%|| accuracy_train 95.26%|| 20 нейронов || 0.1 learning rates || 1000 iters \n",
      "--- accuracy_test 88.38%|| accuracy_train 94.26%|| 20 нейронов || 0.1 learning rates || 2000 iters \n",
      "--- accuracy_test 87.04%|| accuracy_train 94.10%|| 20 нейронов || 0.1 learning rates || 5000 iters \n",
      "--- accuracy_test 85.02%|| accuracy_train 81.05%|| 20 нейронов || 0.05 learning rates || 100 iters \n",
      "--- accuracy_test 88.22%|| accuracy_train 90.44%|| 20 нейронов || 0.05 learning rates || 200 iters \n",
      "--- accuracy_test 90.40%|| accuracy_train 93.18%|| 20 нейронов || 0.05 learning rates || 500 iters \n",
      "--- accuracy_test 89.90%|| accuracy_train 94.60%|| 20 нейронов || 0.05 learning rates || 1000 iters \n",
      "+++ accuracy_test 92.76%|| accuracy_train 94.60%|| 20 нейронов || 0.05 learning rates || 2000 iters \n",
      "--- accuracy_test 91.75%|| accuracy_train 96.84%|| 20 нейронов || 0.05 learning rates || 5000 iters \n",
      "--- accuracy_test 92.09%|| accuracy_train 91.52%|| 20 нейронов || 0.01 learning rates || 100 iters \n",
      "--- accuracy_test 92.59%|| accuracy_train 94.85%|| 20 нейронов || 0.01 learning rates || 200 iters \n",
      "+++ accuracy_test 94.78%|| accuracy_train 97.26%|| 20 нейронов || 0.01 learning rates || 500 iters \n",
      "+++ accuracy_test 94.95%|| accuracy_train 97.76%|| 20 нейронов || 0.01 learning rates || 1000 iters \n",
      "--- accuracy_test 93.60%|| accuracy_train 98.92%|| 20 нейронов || 0.01 learning rates || 2000 iters \n",
      "--- accuracy_test 91.58%|| accuracy_train 98.00%|| 20 нейронов || 0.01 learning rates || 5000 iters \n",
      "--- accuracy_test 18.18%|| accuracy_train 21.20%|| 20 нейронов || 0.001 learning rates || 100 iters \n",
      "--- accuracy_test 25.42%|| accuracy_train 29.59%|| 20 нейронов || 0.001 learning rates || 200 iters \n",
      "--- accuracy_test 63.64%|| accuracy_train 64.84%|| 20 нейронов || 0.001 learning rates || 500 iters \n",
      "--- accuracy_test 81.65%|| accuracy_train 83.62%|| 20 нейронов || 0.001 learning rates || 1000 iters \n",
      "--- accuracy_test 84.85%|| accuracy_train 86.95%|| 20 нейронов || 0.001 learning rates || 2000 iters \n",
      "--- accuracy_test 89.23%|| accuracy_train 93.43%|| 20 нейронов || 0.001 learning rates || 5000 iters \n",
      "--- accuracy_test 75.59%|| accuracy_train 75.56%|| 40 нейронов || 1 learning rates || 100 iters \n",
      "--- accuracy_test 87.37%|| accuracy_train 90.44%|| 40 нейронов || 1 learning rates || 200 iters \n",
      "--- accuracy_test 90.74%|| accuracy_train 94.76%|| 40 нейронов || 1 learning rates || 500 iters \n",
      "--- accuracy_test 89.39%|| accuracy_train 92.85%|| 40 нейронов || 1 learning rates || 1000 iters \n",
      "--- accuracy_test 90.57%|| accuracy_train 94.18%|| 40 нейронов || 1 learning rates || 2000 iters \n",
      "--- accuracy_test 91.25%|| accuracy_train 98.25%|| 40 нейронов || 1 learning rates || 5000 iters \n",
      "--- accuracy_test 73.57%|| accuracy_train 74.40%|| 40 нейронов || 0.1 learning rates || 100 iters \n",
      "--- accuracy_test 83.00%|| accuracy_train 88.20%|| 40 нейронов || 0.1 learning rates || 200 iters \n",
      "--- accuracy_test 87.88%|| accuracy_train 89.19%|| 40 нейронов || 0.1 learning rates || 500 iters \n",
      "--- accuracy_test 92.09%|| accuracy_train 96.34%|| 40 нейронов || 0.1 learning rates || 1000 iters \n",
      "--- accuracy_test 90.74%|| accuracy_train 97.17%|| 40 нейронов || 0.1 learning rates || 2000 iters \n",
      "--- accuracy_test 91.75%|| accuracy_train 97.17%|| 40 нейронов || 0.1 learning rates || 5000 iters \n",
      "--- accuracy_test 87.21%|| accuracy_train 90.44%|| 40 нейронов || 0.05 learning rates || 100 iters \n",
      "--- accuracy_test 91.75%|| accuracy_train 94.85%|| 40 нейронов || 0.05 learning rates || 200 iters \n",
      "--- accuracy_test 92.26%|| accuracy_train 97.59%|| 40 нейронов || 0.05 learning rates || 500 iters \n",
      "--- accuracy_test 93.77%|| accuracy_train 98.75%|| 40 нейронов || 0.05 learning rates || 1000 iters \n"
     ]
    },
    {
     "name": "stdout",
     "output_type": "stream",
     "text": [
      "--- accuracy_test 94.28%|| accuracy_train 99.00%|| 40 нейронов || 0.05 learning rates || 2000 iters \n",
      "+++ accuracy_test 95.12%|| accuracy_train 99.83%|| 40 нейронов || 0.05 learning rates || 5000 iters \n",
      "--- accuracy_test 94.28%|| accuracy_train 95.34%|| 40 нейронов || 0.01 learning rates || 100 iters \n",
      "+++ accuracy_test 95.96%|| accuracy_train 97.34%|| 40 нейронов || 0.01 learning rates || 200 iters \n",
      "+++ accuracy_test 97.14%|| accuracy_train 99.25%|| 40 нейронов || 0.01 learning rates || 500 iters \n",
      "--- accuracy_test 96.97%|| accuracy_train 99.75%|| 40 нейронов || 0.01 learning rates || 1000 iters \n",
      "--- accuracy_test 95.96%|| accuracy_train 100.00%|| 40 нейронов || 0.01 learning rates || 2000 iters \n",
      "--- accuracy_test 95.45%|| accuracy_train 100.00%|| 40 нейронов || 0.01 learning rates || 5000 iters \n",
      "--- accuracy_test 25.42%|| accuracy_train 27.43%|| 40 нейронов || 0.001 learning rates || 100 iters \n",
      "--- accuracy_test 39.06%|| accuracy_train 41.31%|| 40 нейронов || 0.001 learning rates || 200 iters \n",
      "--- accuracy_test 84.01%|| accuracy_train 83.96%|| 40 нейронов || 0.001 learning rates || 500 iters \n",
      "--- accuracy_test 89.73%|| accuracy_train 91.94%|| 40 нейронов || 0.001 learning rates || 1000 iters \n",
      "--- accuracy_test 92.26%|| accuracy_train 95.26%|| 40 нейронов || 0.001 learning rates || 2000 iters \n",
      "--- accuracy_test 94.61%|| accuracy_train 97.59%|| 40 нейронов || 0.001 learning rates || 5000 iters \n",
      "--- accuracy_test 56.90%|| accuracy_train 50.71%|| 50 нейронов || 1 learning rates || 100 iters \n",
      "--- accuracy_test 85.86%|| accuracy_train 88.28%|| 50 нейронов || 1 learning rates || 200 iters \n",
      "--- accuracy_test 88.05%|| accuracy_train 93.35%|| 50 нейронов || 1 learning rates || 500 iters \n",
      "--- accuracy_test 92.09%|| accuracy_train 95.01%|| 50 нейронов || 1 learning rates || 1000 iters \n",
      "--- accuracy_test 90.91%|| accuracy_train 94.68%|| 50 нейронов || 1 learning rates || 2000 iters \n",
      "--- accuracy_test 90.91%|| accuracy_train 97.42%|| 50 нейронов || 1 learning rates || 5000 iters \n",
      "--- accuracy_test 85.69%|| accuracy_train 83.29%|| 50 нейронов || 0.1 learning rates || 100 iters \n",
      "--- accuracy_test 91.25%|| accuracy_train 94.35%|| 50 нейронов || 0.1 learning rates || 200 iters \n",
      "--- accuracy_test 94.28%|| accuracy_train 96.26%|| 50 нейронов || 0.1 learning rates || 500 iters \n",
      "--- accuracy_test 94.61%|| accuracy_train 97.67%|| 50 нейронов || 0.1 learning rates || 1000 iters \n",
      "--- accuracy_test 94.44%|| accuracy_train 99.25%|| 50 нейронов || 0.1 learning rates || 2000 iters \n",
      "--- accuracy_test 93.77%|| accuracy_train 98.75%|| 50 нейронов || 0.1 learning rates || 5000 iters \n",
      "--- accuracy_test 83.33%|| accuracy_train 77.47%|| 50 нейронов || 0.05 learning rates || 100 iters \n",
      "--- accuracy_test 90.07%|| accuracy_train 92.19%|| 50 нейронов || 0.05 learning rates || 200 iters \n",
      "--- accuracy_test 93.10%|| accuracy_train 97.17%|| 50 нейронов || 0.05 learning rates || 500 iters \n",
      "--- accuracy_test 93.27%|| accuracy_train 99.17%|| 50 нейронов || 0.05 learning rates || 1000 iters \n",
      "--- accuracy_test 92.76%|| accuracy_train 97.09%|| 50 нейронов || 0.05 learning rates || 2000 iters \n",
      "--- accuracy_test 94.44%|| accuracy_train 99.83%|| 50 нейронов || 0.05 learning rates || 5000 iters \n",
      "--- accuracy_test 93.43%|| accuracy_train 95.34%|| 50 нейронов || 0.01 learning rates || 100 iters \n",
      "--- accuracy_test 95.45%|| accuracy_train 98.00%|| 50 нейронов || 0.01 learning rates || 200 iters \n",
      "--- accuracy_test 96.97%|| accuracy_train 99.17%|| 50 нейронов || 0.01 learning rates || 500 iters \n",
      "--- accuracy_test 96.63%|| accuracy_train 99.83%|| 50 нейронов || 0.01 learning rates || 1000 iters \n",
      "--- accuracy_test 96.30%|| accuracy_train 99.92%|| 50 нейронов || 0.01 learning rates || 2000 iters \n",
      "--- accuracy_test 96.63%|| accuracy_train 100.00%|| 50 нейронов || 0.01 learning rates || 5000 iters \n",
      "--- accuracy_test 30.64%|| accuracy_train 36.41%|| 50 нейронов || 0.001 learning rates || 100 iters \n",
      "--- accuracy_test 51.85%|| accuracy_train 55.11%|| 50 нейронов || 0.001 learning rates || 200 iters \n",
      "--- accuracy_test 77.44%|| accuracy_train 81.63%|| 50 нейронов || 0.001 learning rates || 500 iters \n",
      "--- accuracy_test 89.73%|| accuracy_train 91.44%|| 50 нейронов || 0.001 learning rates || 1000 iters \n",
      "--- accuracy_test 93.10%|| accuracy_train 95.59%|| 50 нейронов || 0.001 learning rates || 2000 iters \n",
      "--- accuracy_test 95.45%|| accuracy_train 98.17%|| 50 нейронов || 0.001 learning rates || 5000 iters \n",
      "--- accuracy_test 64.98%|| accuracy_train 71.74%|| 60 нейронов || 1 learning rates || 100 iters \n",
      "--- accuracy_test 86.53%|| accuracy_train 89.11%|| 60 нейронов || 1 learning rates || 200 iters \n",
      "--- accuracy_test 89.90%|| accuracy_train 95.34%|| 60 нейронов || 1 learning rates || 500 iters \n",
      "--- accuracy_test 93.77%|| accuracy_train 98.17%|| 60 нейронов || 1 learning rates || 1000 iters \n",
      "--- accuracy_test 92.59%|| accuracy_train 97.84%|| 60 нейронов || 1 learning rates || 2000 iters \n",
      "--- accuracy_test 92.42%|| accuracy_train 99.00%|| 60 нейронов || 1 learning rates || 5000 iters \n",
      "--- accuracy_test 81.82%|| accuracy_train 86.87%|| 60 нейронов || 0.1 learning rates || 100 iters \n",
      "--- accuracy_test 88.22%|| accuracy_train 92.19%|| 60 нейронов || 0.1 learning rates || 200 iters \n",
      "--- accuracy_test 91.25%|| accuracy_train 97.26%|| 60 нейронов || 0.1 learning rates || 500 iters \n",
      "--- accuracy_test 92.76%|| accuracy_train 98.67%|| 60 нейронов || 0.1 learning rates || 1000 iters \n",
      "--- accuracy_test 92.59%|| accuracy_train 99.58%|| 60 нейронов || 0.1 learning rates || 2000 iters \n",
      "--- accuracy_test 93.10%|| accuracy_train 99.83%|| 60 нейронов || 0.1 learning rates || 5000 iters \n",
      "--- accuracy_test 87.04%|| accuracy_train 90.02%|| 60 нейронов || 0.05 learning rates || 100 iters \n",
      "--- accuracy_test 92.59%|| accuracy_train 96.34%|| 60 нейронов || 0.05 learning rates || 200 iters \n",
      "--- accuracy_test 95.29%|| accuracy_train 98.67%|| 60 нейронов || 0.05 learning rates || 500 iters \n",
      "--- accuracy_test 95.12%|| accuracy_train 99.50%|| 60 нейронов || 0.05 learning rates || 1000 iters \n",
      "--- accuracy_test 93.77%|| accuracy_train 99.58%|| 60 нейронов || 0.05 learning rates || 2000 iters \n",
      "--- accuracy_test 95.29%|| accuracy_train 99.58%|| 60 нейронов || 0.05 learning rates || 5000 iters \n",
      "--- accuracy_test 94.28%|| accuracy_train 95.93%|| 60 нейронов || 0.01 learning rates || 100 iters \n",
      "--- accuracy_test 96.46%|| accuracy_train 97.67%|| 60 нейронов || 0.01 learning rates || 200 iters \n",
      "--- accuracy_test 96.80%|| accuracy_train 99.25%|| 60 нейронов || 0.01 learning rates || 500 iters \n",
      "--- accuracy_test 96.30%|| accuracy_train 99.92%|| 60 нейронов || 0.01 learning rates || 1000 iters \n",
      "--- accuracy_test 96.97%|| accuracy_train 100.00%|| 60 нейронов || 0.01 learning rates || 2000 iters \n",
      "--- accuracy_test 96.46%|| accuracy_train 100.00%|| 60 нейронов || 0.01 learning rates || 5000 iters \n",
      "--- accuracy_test 38.05%|| accuracy_train 42.06%|| 60 нейронов || 0.001 learning rates || 100 iters \n",
      "--- accuracy_test 52.02%|| accuracy_train 53.95%|| 60 нейронов || 0.001 learning rates || 200 iters \n",
      "--- accuracy_test 84.01%|| accuracy_train 87.28%|| 60 нейронов || 0.001 learning rates || 500 iters \n",
      "--- accuracy_test 90.24%|| accuracy_train 93.93%|| 60 нейронов || 0.001 learning rates || 1000 iters \n",
      "--- accuracy_test 92.09%|| accuracy_train 94.43%|| 60 нейронов || 0.001 learning rates || 2000 iters \n",
      "--- accuracy_test 94.78%|| accuracy_train 97.51%|| 60 нейронов || 0.001 learning rates || 5000 iters \n"
     ]
    }
   ],
   "source": [
    "max_accuracy = 0\n",
    "report = []\n",
    "\n",
    "for n in neuron_numbs:\n",
    "    for l in learning_rates:\n",
    "        for i in iters:\n",
    "            np.random.seed(1)\n",
    "            w0 = np.random.random((64, n))  # для входного слоя    - 64 входа, neuron_numb выходов\n",
    "            w1 = np.random.random((n, 10))  # для внутреннего слоя - neuron_numb входов, 10 выходов\n",
    "            for j in range(i):\n",
    "\n",
    "                # прямое распространение(feed forward)\n",
    "                layer0 = X_train\n",
    "                layer1 = sigmoid(np.dot(layer0, w0))\n",
    "                layer2 = sigmoid(np.dot(layer1, w1))\n",
    "\n",
    "                # обратное распространение (back propagation)\n",
    "                #  с использованием градиентного спуска\n",
    "                layer2_error = layer2 - y_train  # производная функции потерь\n",
    "                layer2_grad = layer2_error * sigmoid_deriv(layer2)\n",
    "\n",
    "                layer1_error = layer2_grad.dot(w1.T)\n",
    "                layer1_grad = layer1_error * sigmoid_deriv(layer1)\n",
    "\n",
    "                w1 -= layer1.T.dot(layer2_grad) * l\n",
    "                w0 -= layer0.T.dot(layer1_grad) * l\n",
    "\n",
    "            # метрики качества\n",
    "            preds = np.argmax(layer2, axis=1)\n",
    "            labels = np.argmax(y_train, axis=1)\n",
    "            accuracy = (preds == labels).sum() * 100 / len(labels)\n",
    "\n",
    "\n",
    "            # Проверяем на тесте\n",
    "            layer0_test = X_test\n",
    "            layer1_test = sigmoid(np.dot(layer0_test, w0))\n",
    "            layer2_test = sigmoid(np.dot(layer1_test, w1))\n",
    "\n",
    "            preds_test = np.argmax(layer2_test, axis=1)\n",
    "            labels_test = np.argmax(y_test, axis=1)\n",
    "            accuracy_test = (preds_test == labels_test).sum() * 100 / len(labels_test)\n",
    "\n",
    "            # Выводим на экран, сохраняя более \"удачные\" значения.\n",
    "            if accuracy_test >= max_accuracy:\n",
    "                print(f\"+++ accuracy_test {accuracy_test:.2f}%|| accuracy_train {accuracy:.2f}%|| {n} нейронов || {l} learning rates || {i} iters \")\n",
    "                max_accuracy = accuracy_test       \n",
    "                report.append(f\"accuracy_test {accuracy_test:.2f}%|| accuracy_train {accuracy:.2f}%|| {n} нейронов || {l} learning rates || {i} iters \")\n",
    "            else:\n",
    "                print(f\"--- accuracy_test {accuracy_test:.2f}%|| accuracy_train {accuracy:.2f}%|| {n} нейронов || {l} learning rates || {i} iters \")"
   ]
  },
  {
   "cell_type": "markdown",
   "metadata": {},
   "source": [
    "Выведем несколько наилучших результатов, чтобы оценить влияние гиперпараметров \"в динамике\""
   ]
  },
  {
   "cell_type": "code",
   "execution_count": 184,
   "metadata": {},
   "outputs": [
    {
     "name": "stdout",
     "output_type": "stream",
     "text": [
      "accuracy_test 84.85%|| accuracy_train 83.13%|| 7 нейронов || 0.1 learning rates || 2000 iters \n",
      "accuracy_test 87.71%|| accuracy_train 90.77%|| 10 нейронов || 0.1 learning rates || 1000 iters \n",
      "accuracy_test 89.39%|| accuracy_train 90.52%|| 10 нейронов || 0.1 learning rates || 5000 iters \n",
      "accuracy_test 90.91%|| accuracy_train 94.43%|| 20 нейронов || 0.1 learning rates || 500 iters \n",
      "accuracy_test 92.76%|| accuracy_train 94.60%|| 20 нейронов || 0.05 learning rates || 2000 iters \n",
      "accuracy_test 94.78%|| accuracy_train 97.26%|| 20 нейронов || 0.01 learning rates || 500 iters \n",
      "accuracy_test 94.95%|| accuracy_train 97.76%|| 20 нейронов || 0.01 learning rates || 1000 iters \n",
      "accuracy_test 95.12%|| accuracy_train 99.83%|| 40 нейронов || 0.05 learning rates || 5000 iters \n",
      "accuracy_test 95.96%|| accuracy_train 97.34%|| 40 нейронов || 0.01 learning rates || 200 iters \n",
      "accuracy_test 97.14%|| accuracy_train 99.25%|| 40 нейронов || 0.01 learning rates || 500 iters \n"
     ]
    }
   ],
   "source": [
    "for i in report[-10:]:\n",
    "    print(i)"
   ]
  },
  {
   "cell_type": "markdown",
   "metadata": {},
   "source": [
    "Вывод: Использовать маленькие скрытые слои, с количеством нейронов меньше, чем выходов сети, оказалось плохой затеей. Возможные максимальные accuracy резко возрасли, при использовании более 10 нейронов скрытого слоя.\n",
    "\n",
    "Обучим сеть на хороших параметрах, и посмотрим графики."
   ]
  },
  {
   "cell_type": "code",
   "execution_count": 197,
   "metadata": {},
   "outputs": [],
   "source": [
    "# Обучение нейронной сети\n",
    "\n",
    "# определим число нейронов скрытого слоя\n",
    "neuron_numb = 40\n",
    "\n",
    "# присваивание случайных весов\n",
    "np.random.seed(1)\n",
    "w0 = np.random.random((64, neuron_numb))  # для входного слоя    - 64 входа, neuron_numb выходов\n",
    "w1 = np.random.random((neuron_numb, 10))  # для внутреннего слоя - neuron_numb входов, 10 выходов\n",
    "\n",
    "# скорость обучения (learning rate)\n",
    "learning_rate = 0.01\n",
    "\n",
    "# количество итераций\n",
    "num_epochs = 1000\n",
    "\n",
    "# массив для ошибок, чтобы потом построить график\n",
    "errors = []\n",
    "metrics = []\n",
    "\n",
    "# процесс обучения\n",
    "for i in range(num_epochs):\n",
    "\n",
    "    # прямое распространение(feed forward)\n",
    "    layer0 = X_train\n",
    "    layer1 = sigmoid(np.dot(layer0, w0))\n",
    "    layer2 = sigmoid(np.dot(layer1, w1))\n",
    "\n",
    "    # обратное распространение (back propagation)\n",
    "    #  с использованием градиентного спуска\n",
    "    layer2_error = layer2 - y_train  # производная функции потерь\n",
    "    layer2_grad = layer2_error * sigmoid_deriv(layer2)\n",
    "    \n",
    "    layer1_error = layer2_grad.dot(w1.T)\n",
    "    layer1_grad = layer1_error * sigmoid_deriv(layer1)\n",
    "    \n",
    "    w1 -= layer1.T.dot(layer2_grad) * learning_rate\n",
    "    w0 -= layer0.T.dot(layer1_grad) * learning_rate\n",
    "    \n",
    "    # ошибка модели\n",
    "    error = np.mean(np.abs(layer2_error))\n",
    "    errors.append(error)\n",
    "    \n",
    "    # метрики качества\n",
    "    preds = np.argmax(layer2, axis=1)\n",
    "    labels = np.argmax(y_train, axis=1)\n",
    "    accuracy = (preds == labels).sum() * 100 / len(labels)\n",
    "    metrics.append(accuracy)"
   ]
  },
  {
   "cell_type": "code",
   "execution_count": 198,
   "metadata": {},
   "outputs": [
    {
     "data": {
      "image/png": "[encoded data removed]",
      "text/plain": [
       "<Figure size 1152x360 with 1 Axes>"
      ]
     },
     "metadata": {
      "needs_background": "light"
     },
     "output_type": "display_data"
    },
    {
     "data": {
      "image/png": "[encoded data removed]",
      "text/plain": [
       "<Figure size 1152x360 with 1 Axes>"
      ]
     },
     "metadata": {
      "needs_background": "light"
     },
     "output_type": "display_data"
    }
   ],
   "source": [
    "# Демонстрация полученных результатов\n",
    "# Диаграмма точности в зависимости от обучения\n",
    "plt.figure(figsize=(16, 5))\n",
    "plt.plot(errors)\n",
    "plt.xlabel('Обучение')\n",
    "plt.ylabel('Ошибка')\n",
    "plt.show()\n",
    "\n",
    "plt.figure(figsize=(16, 5))\n",
    "plt.plot(metrics)\n",
    "plt.xlabel('Количество итераций')\n",
    "plt.ylabel('Accuracy')\n",
    "plt.show()"
   ]
  },
  {
   "cell_type": "code",
   "execution_count": 199,
   "metadata": {},
   "outputs": [
    {
     "data": {
      "image/png": "[encoded data removed]",
      "text/plain": [
       "<Figure size 1152x360 with 1 Axes>"
      ]
     },
     "metadata": {
      "needs_background": "light"
     },
     "output_type": "display_data"
    },
    {
     "name": "stdout",
     "output_type": "stream",
     "text": [
      "accuracy на обучении 99.75%\n"
     ]
    }
   ],
   "source": [
    "N = 10\n",
    "label = 1\n",
    "plt.figure(figsize=(16, 5))\n",
    "plt.plot(layer2[:N, label], 'r', label='y pred')\n",
    "plt.plot(y_train[:N, label],'g', label='y train')\n",
    "plt.xticks(np.arange(N))\n",
    "plt.xlabel('№ примера')\n",
    "plt.ylabel('выход сети и целевой')\n",
    "plt.legend()\n",
    "plt.show()\n",
    "        \n",
    "print(f\"accuracy на обучении {accuracy:.2f}%\")"
   ]
  },
  {
   "cell_type": "code",
   "execution_count": 200,
   "metadata": {},
   "outputs": [
    {
     "data": {
      "image/png": "[encoded data removed]",
      "text/plain": [
       "<Figure size 1152x360 with 1 Axes>"
      ]
     },
     "metadata": {
      "needs_background": "light"
     },
     "output_type": "display_data"
    },
    {
     "name": "stdout",
     "output_type": "stream",
     "text": [
      "accuracy на тесте 96.97%\n"
     ]
    }
   ],
   "source": [
    "# прямое распространение(feed forward)\n",
    "layer0_test = X_test\n",
    "layer1_test = sigmoid(np.dot(layer0_test, w0))\n",
    "layer2_test = sigmoid(np.dot(layer1_test, w1))\n",
    "    \n",
    "    \n",
    "N = 20\n",
    "plt.figure(figsize=(16, 5))\n",
    "plt.plot(layer2_test[:N, 1], 'r', label='y pred')\n",
    "plt.plot(y_test[:N, 1], 'g', label='y test')\n",
    "plt.xticks(np.arange(N))\n",
    "plt.xlabel('№ примера')\n",
    "plt.ylabel('выход сети и целевой')\n",
    "plt.legend()\n",
    "plt.show()\n",
    "\n",
    "# метрика модели\n",
    "preds_test = np.argmax(layer2_test, axis=1)\n",
    "labels_test = np.argmax(y_test, axis=1)\n",
    "accuracy_test = (preds_test == labels_test).sum() * 100 / len(labels_test)\n",
    "print(f\"accuracy на тесте {accuracy_test:.2f}%\")"
   ]
  }
 ],
 "metadata": {
  "colab": {
   "collapsed_sections": [
    "TWX2iLhFxpTS",
    "IADnOuFBxpTS"
   ],
   "name": "Web1.ipynb",
   "provenance": [],
   "toc_visible": true
  },
  "kernelspec": {
   "display_name": "Python 3",
   "language": "python",
   "name": "python3"
  },
  "language_info": {
   "codemirror_mode": {
    "name": "ipython",
    "version": 3
   },
   "file_extension": ".py",
   "mimetype": "text/x-python",
   "name": "python",
   "nbconvert_exporter": "python",
   "pygments_lexer": "ipython3",
   "version": "3.8.3"
  }
 },
 "nbformat": 4,
 "nbformat_minor": 1
}
